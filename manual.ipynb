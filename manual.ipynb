{
 "cells": [
  {
   "cell_type": "markdown",
   "id": "f0fb7f6e",
   "metadata": {},
   "source": [
    "### Приложение 1\n",
    "#### Ручное шифрование"
   ]
  },
  {
   "cell_type": "markdown",
   "id": "20aed108-9318-4050-99b7-e9996dee56ec",
   "metadata": {},
   "source": [
    "#### Определю открытый текст для шифрования"
   ]
  },
  {
   "cell_type": "code",
   "execution_count": 1,
   "id": "1de6f902",
   "metadata": {},
   "outputs": [
    {
     "name": "stdout",
     "output_type": "stream",
     "text": [
      "{\n",
      "    \"open_text\": \"evgeny\",\n",
      "    \"open_text_bytes\": \"b'evgeny'\",\n",
      "    \"open_text_int\": 111559215246969,\n",
      "    \"open_text_bin\": \"11001010111011001100111011001010110111001111001\"\n",
      "}\n"
     ]
    }
   ],
   "source": [
    "# Возьму для шифрования условную строку\n",
    "\n",
    "open_text = \"evgeny\"\n",
    "\n",
    "# Предствлю её в байтах, в целочисленном виде, в битах\n",
    "\n",
    "open_text_bytes = open_text.encode()\n",
    "open_text_int = int.from_bytes(open_text_bytes, byteorder=\"big\", signed=False)\n",
    "open_text_bin = bin(open_text_int)[2:]\n",
    "\n",
    "import json\n",
    "\n",
    "print(json.dumps({\n",
    "    \"open_text\": open_text,\n",
    "    \"open_text_bytes\": str(open_text_bytes),\n",
    "    \"open_text_int\": open_text_int,\n",
    "    \"open_text_bin\": open_text_bin\n",
    "}, indent=4))"
   ]
  },
  {
   "cell_type": "markdown",
   "id": "b6659585-af9b-4aec-9c63-a3094fcfcc0a",
   "metadata": {},
   "source": [
    "#### Сгенерирую ключевую пару"
   ]
  },
  {
   "cell_type": "code",
   "execution_count": 2,
   "id": "f557125a",
   "metadata": {},
   "outputs": [
    {
     "data": {
      "text/plain": [
       "(7, 9)"
      ]
     },
     "execution_count": 2,
     "metadata": {},
     "output_type": "execute_result"
    }
   ],
   "source": [
    "# Сгенерирую вручную открытый ключ длиной 8 бит по модулю длиной 16 бит\n",
    "\n",
    "# Шаг 1. Придумаю параметры p и q длиной 7 и 9 бит\n",
    "\n",
    "p = 71\n",
    "q = 277\n",
    "\n",
    "len(bin(p)[2:]), len(bin(q)[2:])"
   ]
  },
  {
   "cell_type": "code",
   "execution_count": 3,
   "id": "9c45958d-35a3-46c9-98ad-355abc1017f4",
   "metadata": {},
   "outputs": [
    {
     "data": {
      "text/plain": [
       "(19667, 19320)"
      ]
     },
     "execution_count": 3,
     "metadata": {},
     "output_type": "execute_result"
    }
   ],
   "source": [
    "# Шаг 2. Вычислю n, φ(n)\n",
    "\n",
    "n = p * q\n",
    "phi = (p - 1)*(q - 1)\n",
    "\n",
    "n, phi"
   ]
  },
  {
   "cell_type": "code",
   "execution_count": 4,
   "id": "2f1b3f51-3bd6-45b3-9b5c-68c60ca97a4e",
   "metadata": {},
   "outputs": [],
   "source": [
    "# Шаг 3. Придумаю e (экспонента зашифрования)\n",
    "\n",
    "e = 223\n",
    "\n",
    "assert len(bin(e)[2:]) == 8"
   ]
  },
  {
   "cell_type": "code",
   "execution_count": 5,
   "id": "34953971-cfcc-4043-99d2-2c75109a885a",
   "metadata": {},
   "outputs": [
    {
     "name": "stdout",
     "output_type": "stream",
     "text": [
      "18367\n"
     ]
    }
   ],
   "source": [
    "# Шаг 4. Вычислю значение закрытого ключа\n",
    "\n",
    "d = pow(e, -1, phi)\n",
    "print(d)"
   ]
  },
  {
   "cell_type": "code",
   "execution_count": 6,
   "id": "5589dafe-8bca-426b-9bf3-5c71b57dec3f",
   "metadata": {},
   "outputs": [
    {
     "data": {
      "text/plain": [
       "True"
      ]
     },
     "execution_count": 6,
     "metadata": {},
     "output_type": "execute_result"
    }
   ],
   "source": [
    "# Шаг 5. Проверю правильность вычислений\n",
    "\n",
    "import random\n",
    "x = random.randrange(2, 99)\n",
    "x_encrypted = pow(x, e, n)\n",
    "x_decrypted = pow(x_encrypted, d, n)\n",
    "\n",
    "bool(x == x_decrypted)"
   ]
  },
  {
   "cell_type": "markdown",
   "id": "0a554714-519e-417c-b8ea-d4db1bfc5736",
   "metadata": {},
   "source": [
    "#### Зашифрую текст"
   ]
  },
  {
   "cell_type": "code",
   "execution_count": 7,
   "id": "aa8396d9-327e-4350-ad1f-21a0e5e9f97c",
   "metadata": {},
   "outputs": [
    {
     "data": {
      "text/plain": [
       "14"
      ]
     },
     "execution_count": 7,
     "metadata": {},
     "output_type": "execute_result"
    }
   ],
   "source": [
    "# Вычислю размер блока\n",
    "\n",
    "import math\n",
    "\n",
    "block_size = math.log(n, 2)\n",
    "\n",
    "# Округлю его вниз\n",
    "\n",
    "block_size = int(block_size)\n",
    "block_size"
   ]
  },
  {
   "cell_type": "code",
   "execution_count": 8,
   "id": "3baacd46-e80f-4ecc-8bc5-83de6f241c30",
   "metadata": {},
   "outputs": [
    {
     "data": {
      "text/plain": [
       "3.357142857142857"
      ]
     },
     "execution_count": 8,
     "metadata": {},
     "output_type": "execute_result"
    }
   ],
   "source": [
    "# Разделю открытый текст на блоки\n",
    "# Получится 3 полных блока и один не полный\n",
    "\n",
    "len(open_text_bin) / block_size"
   ]
  },
  {
   "cell_type": "code",
   "execution_count": 11,
   "id": "27af9948-385e-413f-be95-ee8215202d05",
   "metadata": {},
   "outputs": [],
   "source": [
    "# Раздроблю открытый текст на блоки с конца\n",
    "\n",
    "block_4 = \"11001\"\n",
    "block_3 = \"01011101100110\"\n",
    "block_2 = \"01110110010101\"\n",
    "block_1 = \"10111001111001\"\n",
    "\n",
    "# Превращу биты в целочисленные значения и зашифрую\n",
    "\n",
    "block_4_int = int(block_4, 2)\n",
    "block_3_int = int(block_3, 2)\n",
    "block_2_int = int(block_2, 2)\n",
    "block_1_int = int(block_1, 2)\n",
    "\n",
    "\n",
    "block_4_int_enc = block_3_int ** e % n\n",
    "block_3_int_enc = block_2_int ** e % n\n",
    "block_3_int_enc = block_2_int ** e % n\n",
    "block_1_int_enc = block_1_int ** e % n\n",
    "\n"
   ]
  },
  {
   "cell_type": "code",
   "execution_count": null,
   "id": "2415269f-4f33-4808-8a44-ee2cb73049ca",
   "metadata": {},
   "outputs": [],
   "source": [
    "# Добавлю в начало кадого блока на одному незначащему нулю а перный блок выровню по длине\n",
    "\n",
    "# block_4 = \"000000000011001\"\n",
    "# block_3 = \"001011101100110\"\n",
    "# block_2 = \"001110110010101\"\n",
    "# block_1 = \"010111001111001\"\n",
    "\n",
    "# Таким образом размер блока в шифртексте вырос на 1цу\n",
    "\n",
    "block_size_full = block_size + 1\n",
    "\n",
    "#"
   ]
  }
 ],
 "metadata": {
  "kernelspec": {
   "display_name": "Python 3 (ipykernel)",
   "language": "python",
   "name": "python3"
  },
  "language_info": {
   "codemirror_mode": {
    "name": "ipython",
    "version": 3
   },
   "file_extension": ".py",
   "mimetype": "text/x-python",
   "name": "python",
   "nbconvert_exporter": "python",
   "pygments_lexer": "ipython3",
   "version": "3.9.6"
  }
 },
 "nbformat": 4,
 "nbformat_minor": 5
}
