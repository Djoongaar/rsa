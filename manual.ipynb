{
 "cells": [
  {
   "cell_type": "markdown",
   "id": "f0fb7f6e",
   "metadata": {},
   "source": [
    "### Приложение 1\n",
    "#### Ручное шифрование"
   ]
  },
  {
   "cell_type": "code",
   "execution_count": 1,
   "id": "1de6f902",
   "metadata": {},
   "outputs": [
    {
     "name": "stdout",
     "output_type": "stream",
     "text": [
      "11001010111011001100111011001010110111001111001\n"
     ]
    }
   ],
   "source": [
    "# Возьму для шифрования условную строку\n",
    "\n",
    "open_text = \"evgeny\"\n",
    "\n",
    "# Предствлю её в байтах\n",
    "\n",
    "# print(open_text.encode())\n",
    "\n",
    "# Предствлю её в целочисленном виде\n",
    "\n",
    "# print(int.from_bytes(open_text.encode(), byteorder=\"big\", signed=False))\n",
    "\n",
    "# Предствлю её в битах\n",
    "\n",
    "open_text_bin = bin(int.from_bytes(open_text.encode(), byteorder=\"big\", signed=False))[2:]\n",
    "\n",
    "print(open_text_bin)"
   ]
  },
  {
   "cell_type": "code",
   "execution_count": null,
   "id": "f557125a",
   "metadata": {},
   "outputs": [],
   "source": []
  }
 ],
 "metadata": {
  "kernelspec": {
   "display_name": "Python 3 (ipykernel)",
   "language": "python",
   "name": "python3"
  },
  "language_info": {
   "codemirror_mode": {
    "name": "ipython",
    "version": 3
   },
   "file_extension": ".py",
   "mimetype": "text/x-python",
   "name": "python",
   "nbconvert_exporter": "python",
   "pygments_lexer": "ipython3",
   "version": "3.11.2"
  }
 },
 "nbformat": 4,
 "nbformat_minor": 5
}
