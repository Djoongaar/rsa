{
 "cells": [
  {
   "cell_type": "markdown",
   "id": "f0fb7f6e",
   "metadata": {},
   "source": [
    "### Приложение 1\n",
    "#### Ручное шифрование"
   ]
  },
  {
   "cell_type": "markdown",
   "id": "20aed108-9318-4050-99b7-e9996dee56ec",
   "metadata": {},
   "source": [
    "#### Определю открытый текст для шифрования"
   ]
  },
  {
   "cell_type": "code",
   "execution_count": 1,
   "id": "1de6f902",
   "metadata": {},
   "outputs": [
    {
     "name": "stdout",
     "output_type": "stream",
     "text": [
      "{\n",
      "    \"open_text\": \"evgeny\",\n",
      "    \"open_text_bytes\": \"b'evgeny'\",\n",
      "    \"open_text_int\": 111559215246969,\n",
      "    \"open_text_bin\": \"11001010111011001100111011001010110111001111001\"\n",
      "}\n"
     ]
    }
   ],
   "source": [
    "# Возьму для шифрования условную строку\n",
    "\n",
    "open_text = \"evgeny\"\n",
    "\n",
    "# Предствлю её в байтах, в целочисленном виде, в битах\n",
    "\n",
    "open_text_bytes = open_text.encode()\n",
    "open_text_int = int.from_bytes(open_text_bytes, byteorder=\"big\", signed=False)\n",
    "open_text_bin = bin(open_text_int)[2:]\n",
    "\n",
    "import json\n",
    "\n",
    "print(json.dumps({\n",
    "    \"open_text\": open_text,\n",
    "    \"open_text_bytes\": str(open_text_bytes),\n",
    "    \"open_text_int\": open_text_int,\n",
    "    \"open_text_bin\": open_text_bin\n",
    "}, indent=4))"
   ]
  },
  {
   "cell_type": "markdown",
   "id": "b6659585-af9b-4aec-9c63-a3094fcfcc0a",
   "metadata": {},
   "source": [
    "#### Сгенерирую ключевую пару"
   ]
  },
  {
   "cell_type": "code",
   "execution_count": 2,
   "id": "f557125a",
   "metadata": {},
   "outputs": [
    {
     "data": {
      "text/plain": [
       "(7, 9)"
      ]
     },
     "execution_count": 2,
     "metadata": {},
     "output_type": "execute_result"
    }
   ],
   "source": [
    "# Сгенерирую вручную открытый ключ длиной 8 бит по модулю длиной 16 бит\n",
    "\n",
    "# Шаг 1. Придумаю параметры p и q длиной 7 и 9 бит\n",
    "\n",
    "p = 71\n",
    "q = 277\n",
    "\n",
    "len(bin(p)[2:]), len(bin(q)[2:])"
   ]
  },
  {
   "cell_type": "code",
   "execution_count": 3,
   "id": "9c45958d-35a3-46c9-98ad-355abc1017f4",
   "metadata": {},
   "outputs": [
    {
     "data": {
      "text/plain": [
       "(19667, 19320)"
      ]
     },
     "execution_count": 3,
     "metadata": {},
     "output_type": "execute_result"
    }
   ],
   "source": [
    "# Шаг 2. Вычислю n, φ(n)\n",
    "\n",
    "n = p * q\n",
    "phi = (p - 1)*(q - 1)\n",
    "\n",
    "n, phi"
   ]
  },
  {
   "cell_type": "code",
   "execution_count": 4,
   "id": "2f1b3f51-3bd6-45b3-9b5c-68c60ca97a4e",
   "metadata": {},
   "outputs": [],
   "source": [
    "# Шаг 3. Придумаю e (экспонента зашифрования)\n",
    "\n",
    "e = 223\n",
    "\n",
    "assert len(bin(e)[2:]) == 8"
   ]
  },
  {
   "cell_type": "code",
   "execution_count": 5,
   "id": "34953971-cfcc-4043-99d2-2c75109a885a",
   "metadata": {},
   "outputs": [
    {
     "name": "stdout",
     "output_type": "stream",
     "text": [
      "18367\n"
     ]
    }
   ],
   "source": [
    "# Шаг 4. Вычислю значение закрытого ключа\n",
    "\n",
    "d = pow(e, -1, phi)\n",
    "print(d)"
   ]
  },
  {
   "cell_type": "code",
   "execution_count": 6,
   "id": "5589dafe-8bca-426b-9bf3-5c71b57dec3f",
   "metadata": {},
   "outputs": [
    {
     "data": {
      "text/plain": [
       "True"
      ]
     },
     "execution_count": 6,
     "metadata": {},
     "output_type": "execute_result"
    }
   ],
   "source": [
    "# Шаг 5. Проверю правильность вычислений\n",
    "\n",
    "import random\n",
    "x = random.randrange(2, 99)\n",
    "x_encrypted = pow(x, e, n)\n",
    "x_decrypted = pow(x_encrypted, d, n)\n",
    "\n",
    "bool(x == x_decrypted)"
   ]
  },
  {
   "cell_type": "markdown",
   "id": "0a554714-519e-417c-b8ea-d4db1bfc5736",
   "metadata": {},
   "source": [
    "#### Зашифрую текст"
   ]
  },
  {
   "cell_type": "code",
   "execution_count": 7,
   "id": "aa8396d9-327e-4350-ad1f-21a0e5e9f97c",
   "metadata": {},
   "outputs": [
    {
     "data": {
      "text/plain": [
       "14"
      ]
     },
     "execution_count": 7,
     "metadata": {},
     "output_type": "execute_result"
    }
   ],
   "source": [
    "# Вычислю размер блока\n",
    "\n",
    "import math\n",
    "\n",
    "block_size = math.log(n, 2)\n",
    "\n",
    "# Округлю его вниз\n",
    "\n",
    "block_size = int(block_size)\n",
    "block_size"
   ]
  },
  {
   "cell_type": "code",
   "execution_count": 8,
   "id": "3baacd46-e80f-4ecc-8bc5-83de6f241c30",
   "metadata": {},
   "outputs": [
    {
     "data": {
      "text/plain": [
       "3.357142857142857"
      ]
     },
     "execution_count": 8,
     "metadata": {},
     "output_type": "execute_result"
    }
   ],
   "source": [
    "# Разделю открытый текст на блоки\n",
    "# Получится 3 полных блока и один не полный\n",
    "\n",
    "len(open_text_bin) / block_size"
   ]
  },
  {
   "cell_type": "code",
   "execution_count": 9,
   "id": "27af9948-385e-413f-be95-ee8215202d05",
   "metadata": {},
   "outputs": [
    {
     "data": {
      "text/plain": [
       "(16690, 17436, 9865, 13431)"
      ]
     },
     "execution_count": 9,
     "metadata": {},
     "output_type": "execute_result"
    }
   ],
   "source": [
    "# Раздроблю открытый текст на блоки с конца\n",
    "\n",
    "\n",
    "block_4 = \"11001\"\n",
    "block_3 = \"01011101100110\"\n",
    "block_2 = \"01110110010101\"\n",
    "block_1 = \"10111001111001\"\n",
    "\n",
    "# Превращу биты в целочисленные значения и зашифрую\n",
    "\n",
    "block_4_int = int(block_4, 2)\n",
    "block_3_int = int(block_3, 2)\n",
    "block_2_int = int(block_2, 2)\n",
    "block_1_int = int(block_1, 2)\n",
    "\n",
    "\n",
    "block_4_int_enc = block_4_int ** e % n\n",
    "block_3_int_enc = block_3_int ** e % n\n",
    "block_2_int_enc = block_2_int ** e % n\n",
    "block_1_int_enc = block_1_int ** e % n\n",
    "\n",
    "# Посмотрим что получилось\n",
    "\n",
    "block_4_int_enc, block_3_int_enc, block_2_int_enc, block_1_int_enc"
   ]
  },
  {
   "cell_type": "code",
   "execution_count": 10,
   "id": "d9f5057c-e86f-4871-9f94-846d183a34be",
   "metadata": {},
   "outputs": [
    {
     "data": {
      "text/plain": [
       "('100000100110010', '100010000011100', '10011010001001', '11010001110111')"
      ]
     },
     "execution_count": 10,
     "metadata": {},
     "output_type": "execute_result"
    }
   ],
   "source": [
    "# Теперь зашифрованные блоки преобразуем в биты\n",
    "\n",
    "block_4_bin_enc = bin(block_4_int_enc)[2:]\n",
    "block_3_bin_enc = bin(block_3_int_enc)[2:]\n",
    "block_2_bin_enc = bin(block_2_int_enc)[2:]\n",
    "block_1_bin_enc = bin(block_1_int_enc)[2:]\n",
    "\n",
    "# Посмотрим что получилось\n",
    "\n",
    "block_4_bin_enc, block_3_bin_enc, block_2_bin_enc, block_1_bin_enc"
   ]
  },
  {
   "cell_type": "code",
   "execution_count": 11,
   "id": "00a7b99d-1624-4137-973f-fe89ec3e3f16",
   "metadata": {},
   "outputs": [
    {
     "data": {
      "text/plain": [
       "(15, 15, 14, 14)"
      ]
     },
     "execution_count": 11,
     "metadata": {},
     "output_type": "execute_result"
    }
   ],
   "source": [
    "# Проверим длину блоков\n",
    "\n",
    "len(block_4_bin_enc), len(block_3_bin_enc), len(block_2_bin_enc), len(block_1_bin_enc)"
   ]
  },
  {
   "cell_type": "code",
   "execution_count": 12,
   "id": "68758d39-7284-45ab-9527-958efae615c4",
   "metadata": {},
   "outputs": [
    {
     "data": {
      "text/plain": [
       "(15, 15, 15, 15)"
      ]
     },
     "execution_count": 12,
     "metadata": {},
     "output_type": "execute_result"
    }
   ],
   "source": [
    "# Блок 1 имеют длину больше чем остальные.\n",
    "# Выровняем до одной длины добавив блоками меньшего размера\n",
    "# по незначащему нулю и увеличив общий размер блока до 15\n",
    "\n",
    "block_size_full = block_size + 1\n",
    "\n",
    "block_2_bin_enc = block_2_bin_enc.zfill(block_size_full)\n",
    "block_1_bin_enc = block_1_bin_enc.zfill(block_size_full)\n",
    "\n",
    "# Еще раз проверим длину блоков\n",
    "\n",
    "len(block_4_bin_enc), len(block_3_bin_enc), len(block_2_bin_enc), len(block_1_bin_enc)"
   ]
  },
  {
   "cell_type": "code",
   "execution_count": 13,
   "id": "5e799b6b-8fa2-4dbd-bb98-a2d318c8b80d",
   "metadata": {},
   "outputs": [
    {
     "name": "stdout",
     "output_type": "stream",
     "text": [
      "\b&Q\u0007\u0013D�w"
     ]
    }
   ],
   "source": [
    "# Преобразую биты в байты.\n",
    "\n",
    "# Сначала сложим все биты в одну большую строку\n",
    "\n",
    "encrypted_text_bin = block_4_bin_enc + block_3_bin_enc + block_2_bin_enc + block_1_bin_enc\n",
    "\n",
    "# Посчитаем количество байтов\n",
    "\n",
    "bytes_count = math.ceil(len(encrypted_text_bin) / 8)\n",
    "\n",
    "# И наконец превратим биты в байты и запишем в файл\n",
    "\n",
    "encrypted_text_bytes = int.to_bytes(int(encrypted_text_bin, 2), length=bytes_count, byteorder=\"big\", signed=False)\n",
    "\n",
    "with open(\"encrypted_text.txt\", \"wb\") as file:\n",
    "    file.write(encrypted_text_bytes)\n",
    "\n",
    "# Прочитаем зашифрованные байты\n",
    "\n",
    "!cat encrypted_text.txt"
   ]
  },
  {
   "cell_type": "code",
   "execution_count": 14,
   "id": "880fb1a9-9248-45e7-a180-4238f9d5caaf",
   "metadata": {},
   "outputs": [
    {
     "data": {
      "text/plain": [
       "'100000100110010100010000011100010011010001001011010001110111'"
      ]
     },
     "execution_count": 14,
     "metadata": {},
     "output_type": "execute_result"
    }
   ],
   "source": [
    "# Расшифруем зашифрованный текст\n",
    "\n",
    "# Преобразуем байты в биты\n",
    "\n",
    "encrypted_text_bin = bin(int.from_bytes(encrypted_text_bytes, byteorder=\"big\", signed=False))[2:]\n",
    "encrypted_text_bin"
   ]
  },
  {
   "cell_type": "code",
   "execution_count": 15,
   "id": "fa10da02-99bb-4e7d-90d1-98950927437c",
   "metadata": {},
   "outputs": [
    {
     "data": {
      "text/plain": [
       "60"
      ]
     },
     "execution_count": 15,
     "metadata": {},
     "output_type": "execute_result"
    }
   ],
   "source": [
    "# Измерим длину битовой строки\n",
    "\n",
    "len(encrypted_text_bin)"
   ]
  },
  {
   "cell_type": "code",
   "execution_count": 16,
   "id": "314b5e8d-9120-4736-b311-e2d5c9a7dcaf",
   "metadata": {},
   "outputs": [
    {
     "data": {
      "text/plain": [
       "4.0"
      ]
     },
     "execution_count": 16,
     "metadata": {},
     "output_type": "execute_result"
    }
   ],
   "source": [
    "# Делится ли на нашу увеличенную длину блока нацело?\n",
    "\n",
    "len(encrypted_text_bin) / block_size_full"
   ]
  },
  {
   "cell_type": "code",
   "execution_count": 17,
   "id": "c209a48f-c95b-44ea-a06a-e13b87c9a249",
   "metadata": {},
   "outputs": [
    {
     "data": {
      "text/plain": [
       "(25, 5990, 7573, 11897)"
      ]
     },
     "execution_count": 17,
     "metadata": {},
     "output_type": "execute_result"
    }
   ],
   "source": [
    "# Да, делится нацело!\n",
    "# Значит идём по блокам и расшифровываем. Для этого \n",
    "# нужно преобразовать каждый блок в целочисл значение \n",
    "# затем возвести в экспоненту расшифрования d по модулю n\n",
    "\n",
    "encrypted_block_4 = \"100000100110010\"\n",
    "encrypted_block_3 = \"100010000011100\"\n",
    "encrypted_block_2 = \"010011010001001\"\n",
    "encrypted_block_1 = \"011010001110111\"\n",
    "\n",
    "encrypted_block_4_int = int(encrypted_block_4, 2)\n",
    "encrypted_block_3_int = int(encrypted_block_3, 2)\n",
    "encrypted_block_2_int = int(encrypted_block_2, 2)\n",
    "encrypted_block_1_int = int(encrypted_block_1, 2)\n",
    "\n",
    "decrypted_block_4_int = encrypted_block_4_int ** d % n\n",
    "decrypted_block_3_int = encrypted_block_3_int ** d % n\n",
    "decrypted_block_2_int = encrypted_block_2_int ** d % n\n",
    "decrypted_block_1_int = encrypted_block_1_int ** d % n\n",
    "\n",
    "decrypted_block_4_int, decrypted_block_3_int, decrypted_block_2_int, decrypted_block_1_int"
   ]
  },
  {
   "cell_type": "code",
   "execution_count": 18,
   "id": "d2d63b28-358d-45dd-9589-5a486b93e6c0",
   "metadata": {},
   "outputs": [
    {
     "data": {
      "text/plain": [
       "True"
      ]
     },
     "execution_count": 18,
     "metadata": {},
     "output_type": "execute_result"
    }
   ],
   "source": [
    "# Если я правильно расшифровал то целочисленные значения \n",
    "# расшифрованных блоков и блоков открытого текста до шифрования \n",
    "# должны совпасть\n",
    "\n",
    "bool(\n",
    "    (decrypted_block_4_int, decrypted_block_3_int, decrypted_block_2_int, decrypted_block_1_int) ==\n",
    "    (block_4_int, block_3_int, block_2_int, block_1_int)\n",
    ")"
   ]
  },
  {
   "cell_type": "code",
   "execution_count": 19,
   "id": "94b1c8b0-3db9-4327-af05-9ded847025a8",
   "metadata": {},
   "outputs": [
    {
     "data": {
      "text/plain": [
       "b'evgeny'"
      ]
     },
     "execution_count": 19,
     "metadata": {},
     "output_type": "execute_result"
    }
   ],
   "source": [
    "# Для наглядности продолжу преобразования до получения исходной строки\n",
    "# добавляю нолики в начале блока до исходного размера блока\n",
    "\n",
    "decrypted_block_4_bin = bin(decrypted_block_4_int)[2:].zfill(block_size)\n",
    "decrypted_block_3_bin = bin(decrypted_block_3_int)[2:].zfill(block_size)\n",
    "decrypted_block_2_bin = bin(decrypted_block_2_int)[2:].zfill(block_size)\n",
    "decrypted_block_1_bin = bin(decrypted_block_1_int)[2:].zfill(block_size)\n",
    "\n",
    "decrypted_bin = decrypted_block_4_bin + decrypted_block_3_bin + decrypted_block_2_bin + decrypted_block_1_bin\n",
    "decrypted_int = int(decrypted_bin, 2)\n",
    "int.to_bytes(decrypted_int, 6, byteorder=\"big\", signed=False)"
   ]
  },
  {
   "cell_type": "code",
   "execution_count": 20,
   "id": "ec5459d7-5106-409b-957c-942bf86f0765",
   "metadata": {},
   "outputs": [],
   "source": [
    "# Вуаля!"
   ]
  },
  {
   "cell_type": "code",
   "execution_count": 21,
   "id": "a0cecfda-4850-43c6-b1ad-35e8f44bcbd3",
   "metadata": {},
   "outputs": [
    {
     "name": "stdout",
     "output_type": "stream",
     "text": [
      "total 2808\n",
      "-rw-r--r-- 1 evgeny evgeny 431919 Apr 25 19:45 analyze.ipynb\n",
      "-rw-r--r-- 1 evgeny evgeny 634672 Apr 25 17:07 analyze.pdf\n",
      "-rw-r--r-- 1 evgeny evgeny  87080 Apr 25 17:06 demo.ipynb\n",
      "-rw-r--r-- 1 evgeny evgeny 314541 Apr 25 17:08 demo.pdf\n",
      "-rw-r--r-- 1 evgeny evgeny      8 Apr 26 17:16 encrypted_text.txt\n",
      "-rw-r--r-- 1 evgeny evgeny  35117 Apr 23 16:57 image.png\n",
      "-rw-r--r-- 1 evgeny evgeny   4172 Apr 26 17:00 keygen.py\n",
      "-rw-r--r-- 1 evgeny evgeny  24080 Apr 26 17:15 manual.ipynb\n",
      "-rw-r--r-- 1 evgeny evgeny     11 Apr 26 17:16 manual.public\n",
      "-rw-r--r-- 1 evgeny evgeny     13 Apr 26 17:16 manual.secret\n",
      "-rw-r--r-- 1 evgeny evgeny 306562 Apr 25 17:06 mayday_decrypted.png\n",
      "-rw-r--r-- 1 evgeny evgeny 328461 Apr 25 17:06 mayday_encrypted.png\n",
      "-rw-r--r-- 1 evgeny evgeny 306562 Apr 25 16:42 mayday.png\n",
      "-rw-r--r-- 1 evgeny evgeny    408 Apr 20 15:36 open.txt\n",
      "drwxr-xr-x 2 evgeny evgeny   4096 Apr 26 17:09 __pycache__\n",
      "-rw-r--r-- 1 evgeny evgeny 339695 Apr 26 15:24 report.docx\n",
      "-rw-r--r-- 1 evgeny evgeny   5100 Apr 25 19:02 rsa.py\n",
      "-rw-r--r-- 1 evgeny evgeny     13 Apr 25 17:06 secret.crack\n",
      "-rw-r--r-- 1 evgeny evgeny     11 Apr 25 17:06 small.public\n",
      "-rw-r--r-- 1 evgeny evgeny     13 Apr 25 17:06 small.secret\n",
      "drwxr-xr-x 6 evgeny evgeny   4096 Apr 15 15:18 venv\n"
     ]
    }
   ],
   "source": [
    "# Теперь натравим программу на ту же строку\n",
    "\n",
    "# Создам небольшого размера пару ключей RSA\n",
    "# Видим пару ключей с префиксом manual в репозитории\n",
    "\n",
    "from keygen import KeyGenerator\n",
    "\n",
    "KeyGenerator(8, 8, \"manual\")\n",
    "!ls -l "
   ]
  },
  {
   "cell_type": "code",
   "execution_count": 22,
   "id": "caa7a8ec-0802-4237-bc34-0ac71978beda",
   "metadata": {},
   "outputs": [
    {
     "data": {
      "text/plain": [
       "<rsa.RSA at 0x7f152017c750>"
      ]
     },
     "execution_count": 22,
     "metadata": {},
     "output_type": "execute_result"
    }
   ],
   "source": [
    "# Создам объект класса RSA для зашифрования и расшифрования\n",
    "\n",
    "from rsa import RSA\n",
    "\n",
    "rsa = RSA(\"manual.public\", \"manual.secret\")\n",
    "rsa"
   ]
  },
  {
   "cell_type": "code",
   "execution_count": 23,
   "id": "2752771f-f709-4526-a730-1b5d337384f3",
   "metadata": {},
   "outputs": [
    {
     "name": "stdout",
     "output_type": "stream",
     "text": [
      "total 2812\n",
      "-rw-r--r-- 1 evgeny evgeny 431919 Apr 25 19:45 analyze.ipynb\n",
      "-rw-r--r-- 1 evgeny evgeny 634672 Apr 25 17:07 analyze.pdf\n",
      "-rw-r--r-- 1 evgeny evgeny  87080 Apr 25 17:06 demo.ipynb\n",
      "-rw-r--r-- 1 evgeny evgeny 314541 Apr 25 17:08 demo.pdf\n",
      "-rw-r--r-- 1 evgeny evgeny      8 Apr 26 17:16 encrypted_text.txt\n",
      "-rw-r--r-- 1 evgeny evgeny  35117 Apr 23 16:57 image.png\n",
      "-rw-r--r-- 1 evgeny evgeny   4172 Apr 26 17:00 keygen.py\n",
      "-rw-r--r-- 1 evgeny evgeny  24080 Apr 26 17:15 manual.ipynb\n",
      "-rw-r--r-- 1 evgeny evgeny      7 Apr 26 17:16 manual_open.txt\n",
      "-rw-r--r-- 1 evgeny evgeny     11 Apr 26 17:16 manual.public\n",
      "-rw-r--r-- 1 evgeny evgeny     13 Apr 26 17:16 manual.secret\n",
      "-rw-r--r-- 1 evgeny evgeny 306562 Apr 25 17:06 mayday_decrypted.png\n",
      "-rw-r--r-- 1 evgeny evgeny 328461 Apr 25 17:06 mayday_encrypted.png\n",
      "-rw-r--r-- 1 evgeny evgeny 306562 Apr 25 16:42 mayday.png\n",
      "-rw-r--r-- 1 evgeny evgeny    408 Apr 20 15:36 open.txt\n",
      "drwxr-xr-x 2 evgeny evgeny   4096 Apr 26 17:09 __pycache__\n",
      "-rw-r--r-- 1 evgeny evgeny 339695 Apr 26 15:24 report.docx\n",
      "-rw-r--r-- 1 evgeny evgeny   5100 Apr 25 19:02 rsa.py\n",
      "-rw-r--r-- 1 evgeny evgeny     13 Apr 25 17:06 secret.crack\n",
      "-rw-r--r-- 1 evgeny evgeny     11 Apr 25 17:06 small.public\n",
      "-rw-r--r-- 1 evgeny evgeny     13 Apr 25 17:06 small.secret\n",
      "drwxr-xr-x 6 evgeny evgeny   4096 Apr 15 15:18 venv\n"
     ]
    }
   ],
   "source": [
    "# Создам файл с текстов \"evgeny\"\n",
    "\n",
    "!echo \"evgeny\" >> manual_open.txt\n",
    "!ls -l"
   ]
  },
  {
   "cell_type": "code",
   "execution_count": 24,
   "id": "8a0cf1ec-4c77-4893-a94e-91a066d61d56",
   "metadata": {},
   "outputs": [
    {
     "name": "stdout",
     "output_type": "stream",
     "text": [
      "total 2816\n",
      "-rw-r--r-- 1 evgeny evgeny 431919 Apr 25 19:45 analyze.ipynb\n",
      "-rw-r--r-- 1 evgeny evgeny 634672 Apr 25 17:07 analyze.pdf\n",
      "-rw-r--r-- 1 evgeny evgeny  87080 Apr 25 17:06 demo.ipynb\n",
      "-rw-r--r-- 1 evgeny evgeny 314541 Apr 25 17:08 demo.pdf\n",
      "-rw-r--r-- 1 evgeny evgeny      8 Apr 26 17:16 encrypted_text.txt\n",
      "-rw-r--r-- 1 evgeny evgeny  35117 Apr 23 16:57 image.png\n",
      "-rw-r--r-- 1 evgeny evgeny   4172 Apr 26 17:00 keygen.py\n",
      "-rw-r--r-- 1 evgeny evgeny      8 Apr 26 17:16 manual_encrypted.txt\n",
      "-rw-r--r-- 1 evgeny evgeny  24080 Apr 26 17:15 manual.ipynb\n",
      "-rw-r--r-- 1 evgeny evgeny      7 Apr 26 17:16 manual_open.txt\n",
      "-rw-r--r-- 1 evgeny evgeny     11 Apr 26 17:16 manual.public\n",
      "-rw-r--r-- 1 evgeny evgeny     13 Apr 26 17:16 manual.secret\n",
      "-rw-r--r-- 1 evgeny evgeny 306562 Apr 25 17:06 mayday_decrypted.png\n",
      "-rw-r--r-- 1 evgeny evgeny 328461 Apr 25 17:06 mayday_encrypted.png\n",
      "-rw-r--r-- 1 evgeny evgeny 306562 Apr 25 16:42 mayday.png\n",
      "-rw-r--r-- 1 evgeny evgeny    408 Apr 20 15:36 open.txt\n",
      "drwxr-xr-x 2 evgeny evgeny   4096 Apr 26 17:09 __pycache__\n",
      "-rw-r--r-- 1 evgeny evgeny 339695 Apr 26 15:24 report.docx\n",
      "-rw-r--r-- 1 evgeny evgeny   5100 Apr 25 19:02 rsa.py\n",
      "-rw-r--r-- 1 evgeny evgeny     13 Apr 25 17:06 secret.crack\n",
      "-rw-r--r-- 1 evgeny evgeny     11 Apr 25 17:06 small.public\n",
      "-rw-r--r-- 1 evgeny evgeny     13 Apr 25 17:06 small.secret\n",
      "drwxr-xr-x 6 evgeny evgeny   4096 Apr 15 15:18 venv\n"
     ]
    }
   ],
   "source": [
    "# Зашифрую\n",
    "\n",
    "rsa.encrypt(\"manual_open.txt\", \"manual_encrypted.txt\")\n",
    "!ls -l"
   ]
  },
  {
   "cell_type": "code",
   "execution_count": 25,
   "id": "d59534b7-1a64-4e4b-b881-d5f5fda0df77",
   "metadata": {},
   "outputs": [
    {
     "name": "stdout",
     "output_type": "stream",
     "text": [
      "evgeny\n"
     ]
    }
   ],
   "source": [
    "rsa.decrypt(\"manual_encrypted.txt\", \"manual_decrypted.txt\")\n",
    "!cat manual_decrypted.txt"
   ]
  },
  {
   "cell_type": "code",
   "execution_count": 26,
   "id": "0a6cd955-324a-4e33-8068-2530ec7795ca",
   "metadata": {},
   "outputs": [],
   "source": [
    "# Вуаля еще раз"
   ]
  }
 ],
 "metadata": {
  "kernelspec": {
   "display_name": "Python 3 (ipykernel)",
   "language": "python",
   "name": "python3"
  },
  "language_info": {
   "codemirror_mode": {
    "name": "ipython",
    "version": 3
   },
   "file_extension": ".py",
   "mimetype": "text/x-python",
   "name": "python",
   "nbconvert_exporter": "python",
   "pygments_lexer": "ipython3",
   "version": "3.11.2"
  }
 },
 "nbformat": 4,
 "nbformat_minor": 5
}
