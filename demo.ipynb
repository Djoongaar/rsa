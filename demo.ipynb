{
 "cells": [
  {
   "cell_type": "markdown",
   "id": "cd38c42c",
   "metadata": {},
   "source": [
    "### Приложение 2\n",
    "Демонстрация работы программы"
   ]
  },
  {
   "cell_type": "code",
   "execution_count": 1,
   "id": "9a4530e1",
   "metadata": {},
   "outputs": [
    {
     "name": "stdout",
     "output_type": "stream",
     "text": [
      "total 64\n",
      "-rw-r--r--  1 lubabordaeva  staff     0 Apr 19 23:08 __init__.py\n",
      "-rw-r--r--  1 lubabordaeva  staff  6115 Apr 21 03:33 demo.ipynb\n",
      "-rw-r--r--  1 lubabordaeva  staff    13 Apr 21 03:31 key.pub\n",
      "-rw-r--r--  1 lubabordaeva  staff    13 Apr 21 03:31 key.secret\n",
      "-rw-r--r--  1 lubabordaeva  staff  4927 Apr 21 03:34 keygen.py\n",
      "-rw-r--r--  1 lubabordaeva  staff   408 Apr 21 02:26 open.txt\n",
      "-rw-r--r--  1 lubabordaeva  staff  3612 Apr 21 03:11 rsa.py\n"
     ]
    }
   ],
   "source": [
    "# Сначала очистим директорию от артифактов предыдущих запусков кода\n",
    "\n",
    "!rm -f encrypted.txt decrypted.txt  # key.*\n",
    "!ls -l"
   ]
  },
  {
   "cell_type": "code",
   "execution_count": 2,
   "id": "a3fe89cc-133a-4f75-9da5-606f60a1811c",
   "metadata": {},
   "outputs": [
    {
     "name": "stdout",
     "output_type": "stream",
     "text": [
      "total 64\n",
      "-rw-r--r--  1 lubabordaeva  staff     0 Apr 19 23:08 __init__.py\n",
      "-rw-r--r--  1 lubabordaeva  staff  6115 Apr 21 03:33 demo.ipynb\n",
      "-rw-r--r--  1 lubabordaeva  staff    13 Apr 21 03:34 key.pub\n",
      "-rw-r--r--  1 lubabordaeva  staff    12 Apr 21 03:34 key.secret\n",
      "-rw-r--r--  1 lubabordaeva  staff  4927 Apr 21 03:34 keygen.py\n",
      "-rw-r--r--  1 lubabordaeva  staff   408 Apr 21 02:26 open.txt\n",
      "-rw-r--r--  1 lubabordaeva  staff  3612 Apr 21 03:11 rsa.py\n"
     ]
    }
   ],
   "source": [
    "# Запускаем генерацию ключевой пары\n",
    "# Скрипт по-умолчанию создаёт пару ключей с названиями \"key.pub\" \n",
    "# и \"key.secret\", или можно напрямую передать скрипту префикс и \n",
    "# получить пару ключей с другими названиями\n",
    "\n",
    "from keygen import KeyGenerator\n",
    "\n",
    "KeyGenerator(8, 8)\n",
    "\n",
    "!ls -l"
   ]
  },
  {
   "cell_type": "code",
   "execution_count": 3,
   "id": "9726677c",
   "metadata": {},
   "outputs": [
    {
     "data": {
      "text/plain": [
       "<rsa.RSA at 0x10bc32070>"
      ]
     },
     "execution_count": 3,
     "metadata": {},
     "output_type": "execute_result"
    }
   ],
   "source": [
    "from rsa import RSA\n",
    "rsa = RSA(\"key.pub\", \"key.secret\")\n",
    "rsa"
   ]
  },
  {
   "cell_type": "code",
   "execution_count": 4,
   "id": "47749dc2",
   "metadata": {},
   "outputs": [
    {
     "data": {
      "text/plain": [
       "{'public_key': '0X89DD',\n",
       " 'public_key_int': 35293,\n",
       " 'secret_key': '0X291',\n",
       " 'secret_key_int': 657,\n",
       " 'module': '0XF619',\n",
       " 'module_int': 63001,\n",
       " 'block_size': 15}"
      ]
     },
     "execution_count": 4,
     "metadata": {},
     "output_type": "execute_result"
    }
   ],
   "source": [
    "# Для наглядности вывожу в строчном представлении модели её основные\n",
    "# параметры\n",
    "rsa.__str__()"
   ]
  },
  {
   "cell_type": "code",
   "execution_count": 5,
   "id": "5fefcb08-e463-4d51-9950-c4a9cdde1d0e",
   "metadata": {},
   "outputs": [
    {
     "name": "stdout",
     "output_type": "stream",
     "text": [
      "35293\n",
      "657\n",
      "63001\n"
     ]
    },
    {
     "ename": "AssertionError",
     "evalue": "",
     "output_type": "error",
     "traceback": [
      "\u001b[0;31m---------------------------------------------------------------------------\u001b[0m",
      "\u001b[0;31mAssertionError\u001b[0m                            Traceback (most recent call last)",
      "Cell \u001b[0;32mIn[5], line 7\u001b[0m\n\u001b[1;32m      4\u001b[0m a \u001b[38;5;241m=\u001b[39m \u001b[38;5;241m7\u001b[39m \u001b[38;5;241m*\u001b[39m\u001b[38;5;241m*\u001b[39m rsa\u001b[38;5;241m.\u001b[39mpublic_key_int \u001b[38;5;241m%\u001b[39m rsa\u001b[38;5;241m.\u001b[39mmodule_int\n\u001b[1;32m      5\u001b[0m b \u001b[38;5;241m=\u001b[39m a \u001b[38;5;241m*\u001b[39m\u001b[38;5;241m*\u001b[39m rsa\u001b[38;5;241m.\u001b[39msecret_key_int \u001b[38;5;241m%\u001b[39m rsa\u001b[38;5;241m.\u001b[39mmodule_int\n\u001b[0;32m----> 7\u001b[0m \u001b[38;5;28;01massert\u001b[39;00m b \u001b[38;5;241m==\u001b[39m \u001b[38;5;241m7\u001b[39m\n",
      "\u001b[0;31mAssertionError\u001b[0m: "
     ]
    }
   ],
   "source": [
    "print(rsa.public_key_int)\n",
    "print(rsa.secret_key_int)\n",
    "print(rsa.module_int)\n",
    "a = 7 ** rsa.public_key_int % rsa.module_int\n",
    "b = a ** rsa.secret_key_int % rsa.module_int\n",
    "\n",
    "assert b == 7"
   ]
  },
  {
   "cell_type": "code",
   "execution_count": null,
   "id": "44ead49d",
   "metadata": {},
   "outputs": [],
   "source": [
    "!cat open.txt"
   ]
  },
  {
   "cell_type": "code",
   "execution_count": null,
   "id": "63a61369",
   "metadata": {},
   "outputs": [],
   "source": [
    "a = rsa.decrypt(\"open.txt\")"
   ]
  },
  {
   "cell_type": "code",
   "execution_count": null,
   "id": "59c39e33",
   "metadata": {},
   "outputs": [],
   "source": []
  }
 ],
 "metadata": {
  "kernelspec": {
   "display_name": "Python 3 (ipykernel)",
   "language": "python",
   "name": "python3"
  },
  "language_info": {
   "codemirror_mode": {
    "name": "ipython",
    "version": 3
   },
   "file_extension": ".py",
   "mimetype": "text/x-python",
   "name": "python",
   "nbconvert_exporter": "python",
   "pygments_lexer": "ipython3",
   "version": "3.9.6"
  }
 },
 "nbformat": 4,
 "nbformat_minor": 5
}
