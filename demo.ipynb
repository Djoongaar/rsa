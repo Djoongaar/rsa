{
 "cells": [
  {
   "cell_type": "markdown",
   "id": "cd38c42c",
   "metadata": {},
   "source": [
    "### Приложение 2\n",
    "Демонстрация работы программы"
   ]
  },
  {
   "cell_type": "code",
   "execution_count": 1,
   "id": "9a4530e1",
   "metadata": {
    "scrolled": true
   },
   "outputs": [
    {
     "name": "stdout",
     "output_type": "stream",
     "text": [
      "total 28\r\n",
      "-rw-r--r-- 1 evgeny evgeny 1674 Apr 19 17:12 demo.ipynb\r\n",
      "-rw-r--r-- 1 evgeny evgeny    0 Apr 15 15:24 __init__.py\r\n",
      "-rw-r--r-- 1 evgeny evgeny 5503 Apr 19 17:11 main.py\r\n",
      "drwxr-xr-x 2 evgeny evgeny 4096 Apr 19 17:12 __pycache__\r\n",
      "-rw-r--r-- 1 evgeny evgeny  258 Apr 19 17:12 rsa.pub\r\n",
      "-rw-r--r-- 1 evgeny evgeny  258 Apr 19 17:12 rsa.secret\r\n",
      "drwxr-xr-x 6 evgeny evgeny 4096 Apr 15 15:18 venv\r\n"
     ]
    }
   ],
   "source": [
    "!ls -l"
   ]
  },
  {
   "cell_type": "code",
   "execution_count": 2,
   "id": "a3fe89cc-133a-4f75-9da5-606f60a1811c",
   "metadata": {},
   "outputs": [],
   "source": [
    "from main import KeyGenerator"
   ]
  },
  {
   "cell_type": "code",
   "execution_count": 3,
   "id": "bdf59209-5c19-4165-bef7-5500f87dcd56",
   "metadata": {},
   "outputs": [
    {
     "data": {
      "text/plain": [
       "<main.KeyGenerator at 0x7efcd831f790>"
      ]
     },
     "execution_count": 3,
     "metadata": {},
     "output_type": "execute_result"
    }
   ],
   "source": [
    "KeyGenerator(512, 512, \"id_rsa\")"
   ]
  },
  {
   "cell_type": "code",
   "execution_count": 4,
   "id": "63bf8eeb",
   "metadata": {},
   "outputs": [
    {
     "name": "stdout",
     "output_type": "stream",
     "text": [
      "total 36\r\n",
      "-rw-r--r-- 1 evgeny evgeny 1674 Apr 19 17:12 demo.ipynb\r\n",
      "-rw-r--r-- 1 evgeny evgeny  258 Apr 19 17:14 id_rsa.pub\r\n",
      "-rw-r--r-- 1 evgeny evgeny  258 Apr 19 17:14 id_rsa.secret\r\n",
      "-rw-r--r-- 1 evgeny evgeny    0 Apr 15 15:24 __init__.py\r\n",
      "-rw-r--r-- 1 evgeny evgeny 5503 Apr 19 17:11 main.py\r\n",
      "drwxr-xr-x 2 evgeny evgeny 4096 Apr 19 17:12 __pycache__\r\n",
      "-rw-r--r-- 1 evgeny evgeny  258 Apr 19 17:12 rsa.pub\r\n",
      "-rw-r--r-- 1 evgeny evgeny  258 Apr 19 17:12 rsa.secret\r\n",
      "drwxr-xr-x 6 evgeny evgeny 4096 Apr 15 15:18 venv\r\n"
     ]
    }
   ],
   "source": [
    "!ls -l"
   ]
  },
  {
   "cell_type": "code",
   "execution_count": null,
   "id": "4f03d8fd",
   "metadata": {},
   "outputs": [],
   "source": []
  }
 ],
 "metadata": {
  "kernelspec": {
   "display_name": "Python 3 (ipykernel)",
   "language": "python",
   "name": "python3"
  },
  "language_info": {
   "codemirror_mode": {
    "name": "ipython",
    "version": 3
   },
   "file_extension": ".py",
   "mimetype": "text/x-python",
   "name": "python",
   "nbconvert_exporter": "python",
   "pygments_lexer": "ipython3",
   "version": "3.11.2"
  }
 },
 "nbformat": 4,
 "nbformat_minor": 5
}
