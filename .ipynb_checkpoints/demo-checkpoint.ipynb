{
 "cells": [
  {
   "cell_type": "markdown",
   "id": "cd38c42c",
   "metadata": {},
   "source": [
    "### Приложение 2\n",
    "Демонстрация работы программы"
   ]
  },
  {
   "cell_type": "code",
   "execution_count": 1,
   "id": "9a4530e1",
   "metadata": {
    "scrolled": true
   },
   "outputs": [],
   "source": [
    "# Сначала очистим директорию от артифактов предыдущих запусков кода\n",
    "\n",
    "# !rm -f key.*\n",
    "# !ls -l"
   ]
  },
  {
   "cell_type": "code",
   "execution_count": 2,
   "id": "a3fe89cc-133a-4f75-9da5-606f60a1811c",
   "metadata": {},
   "outputs": [
    {
     "name": "stdout",
     "output_type": "stream",
     "text": [
      "total 40\r\n",
      "-rw-r--r-- 1 evgeny evgeny 7981 Apr 20 18:14 demo.ipynb\r\n",
      "-rw-r--r-- 1 evgeny evgeny    0 Apr 15 15:24 __init__.py\r\n",
      "-rw-r--r-- 1 evgeny evgeny 5589 Apr 19 18:16 keygen.py\r\n",
      "-rw-r--r-- 1 evgeny evgeny  517 Apr 20 15:21 key.pub\r\n",
      "-rw-r--r-- 1 evgeny evgeny  517 Apr 20 15:21 key.secret\r\n",
      "-rw-r--r-- 1 evgeny evgeny  408 Apr 20 15:36 open.txt\r\n",
      "drwxr-xr-x 2 evgeny evgeny 4096 Apr 20 18:13 __pycache__\r\n",
      "-rw-r--r-- 1 evgeny evgeny 3636 Apr 20 18:15 rsa.py\r\n",
      "drwxr-xr-x 6 evgeny evgeny 4096 Apr 15 15:18 venv\r\n"
     ]
    }
   ],
   "source": [
    "# Запускаем генерацию ключевой пары\n",
    "# Скрипт по-умолчанию создаёт пару ключей с названиями \"key.pub\" \n",
    "# и \"key.secret\", или можно напрямую передать скрипту префикс и \n",
    "# получить пару ключей с другими названиями\n",
    "\n",
    "# from keygen import KeyGenerator\n",
    "\n",
    "# KeyGenerator(512, 512)\n",
    "\n",
    "!ls -l"
   ]
  },
  {
   "cell_type": "code",
   "execution_count": 3,
   "id": "9726677c",
   "metadata": {},
   "outputs": [
    {
     "data": {
      "text/plain": [
       "<rsa.RSA at 0x7f1a9d3ba690>"
      ]
     },
     "execution_count": 3,
     "metadata": {},
     "output_type": "execute_result"
    }
   ],
   "source": [
    "from rsa import RSA\n",
    "rsa = RSA(\"key.pub\", \"key.secret\")\n",
    "rsa"
   ]
  },
  {
   "cell_type": "code",
   "execution_count": 4,
   "id": "47749dc2",
   "metadata": {},
   "outputs": [
    {
     "data": {
      "text/plain": [
       "{'public_key': '0XAB70FB0295701C9E6716A0E0D2CAF8FBA1BD71AF7B13825FF35028326D85D704DA5CA84F0F44BB93B14B7F0705F6ABE22CDFF27C1DD5C5B38252F698C43EC70163D933D549C60F665C44CE3E861772CCC79B804A263D86130E6F96B76EEC37CE4CC966B383F525EFF5D43A4595630D2A7791AF00BA050B973EB634D196711A67',\n",
       " 'public_key_int': 120390196160357340732965035835282317237661055903396291444644133530984459800409573116604464744951069232672479844184671599992294758944857739439378862968797975326865625606984620510065838364021526138618426332238438235074093980005654687553558582456259830677519574712985202281300804318871442589523859814126871190119,\n",
       " 'secret_key': '0X7DCB729C25675962457C59B85C513E40517ED0E2D0F393AF61607235262FCAA672BF674CD0999688A0565849EF2E59FCA6282375B1FA414C0276BC19A7D72D0D95BFED6F02E3F4AAD246E6D57E1616137B0D9386247F4ADA27A278D1B2FA89CDF27ACBC0C1335366BBD8157C09A4E25DDC2443D1C33AB3396030013462FAE157',\n",
       " 'secret_key_int': 88336054749114823422842573932394153637535327004039956866961988499917900630914474692466616601007360570908336292136861530250057595396781985414077301902181804113659359231983060292579500748272804158077027073375272153324645723129051847282970463710675102492535417302179304257563572326325147541393670237160440783191,\n",
       " 'module': '0XD76DCB883F9D47CDC269160134AB12C58FA8BC2C09D658A56A8EAD8D95CE380FDC484EB4C25CF812BB671C34155D7831C4ECE9A14D8CC790E2606498D218AAC95697AAFD6F402B49234D2E4DB2E10AC74E20A5C41F6BA4A6160166638B087A9F03F7615905C0BBEB9E1C7DF71C54CEB502B914CA2291C990B5EC982A29568000',\n",
       " 'module_int': 151279309000214534553212404659196611050145707443455194209907594544183029783302330426923667213366278076451035245904849049741943927957192731798572973449680633287308444682359458589065901358685271465490799095780617478012377185595061485683404455834967208306856338222831357386855260697346286891800856909771049435136,\n",
       " 'block_size': 1023}"
      ]
     },
     "execution_count": 4,
     "metadata": {},
     "output_type": "execute_result"
    }
   ],
   "source": [
    "# Для наглядности вывожу в строчном представлении модели её основные\n",
    "# параметры\n",
    "rsa.__str__()"
   ]
  },
  {
   "cell_type": "code",
   "execution_count": 5,
   "id": "44ead49d",
   "metadata": {},
   "outputs": [
    {
     "name": "stdout",
     "output_type": "stream",
     "text": [
      "Прощай немытая Россия,\r\n",
      "Страна рабов, страна господ,\r\n",
      "И вы, мундиры голубые,\r\n",
      "И ты, им преданный народ.\r\n",
      "\r\n",
      "Быть может, за стеной Кавказа\r\n",
      "Сокроюсь от твоих пашей,\r\n",
      "От их всевидящего глаза,\r\n",
      "От их всеслышащих ушей.\r\n",
      "\r\n",
      "Михаил Лермонтов, 1841г."
     ]
    }
   ],
   "source": [
    "!cat open.txt"
   ]
  },
  {
   "cell_type": "code",
   "execution_count": 6,
   "id": "63a61369",
   "metadata": {
    "scrolled": false
   },
   "outputs": [
    {
     "name": "stdout",
     "output_type": "stream",
     "text": [
      "408 <class 'bytearray'>\n",
      "1023 <class 'str'>\n",
      "128 <class 'bytes'>\n",
      "1023 <class 'str'>\n",
      "128 <class 'bytes'>\n",
      "1023 <class 'str'>\n",
      "128 <class 'bytes'>\n"
     ]
    }
   ],
   "source": [
    "a = rsa.decrypt(\"open.txt\")"
   ]
  },
  {
   "cell_type": "code",
   "execution_count": null,
   "id": "59c39e33",
   "metadata": {},
   "outputs": [],
   "source": []
  }
 ],
 "metadata": {
  "kernelspec": {
   "display_name": "Python 3 (ipykernel)",
   "language": "python",
   "name": "python3"
  },
  "language_info": {
   "codemirror_mode": {
    "name": "ipython",
    "version": 3
   },
   "file_extension": ".py",
   "mimetype": "text/x-python",
   "name": "python",
   "nbconvert_exporter": "python",
   "pygments_lexer": "ipython3",
   "version": "3.11.2"
  }
 },
 "nbformat": 4,
 "nbformat_minor": 5
}
