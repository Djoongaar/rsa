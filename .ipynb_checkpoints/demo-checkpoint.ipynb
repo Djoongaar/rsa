{
 "cells": [
  {
   "cell_type": "markdown",
   "id": "cd38c42c",
   "metadata": {},
   "source": [
    "### Приложение 2\n",
    "Демонстрация работы программы"
   ]
  },
  {
   "cell_type": "code",
   "execution_count": 1,
   "id": "9a4530e1",
   "metadata": {
    "scrolled": true
   },
   "outputs": [
    {
     "name": "stdout",
     "output_type": "stream",
     "text": [
      "total 28\r\n",
      "-rw-r--r-- 1 evgeny evgeny 10504 Apr 18 19:49 demo.ipynb\r\n",
      "-rw-r--r-- 1 evgeny evgeny     0 Apr 15 15:24 __init__.py\r\n",
      "-rw-r--r-- 1 evgeny evgeny  4833 Apr 18 19:51 main.py\r\n",
      "drwxr-xr-x 2 evgeny evgeny  4096 Apr 18 19:48 __pycache__\r\n",
      "drwxr-xr-x 6 evgeny evgeny  4096 Apr 15 15:18 venv\r\n"
     ]
    }
   ],
   "source": [
    "!ls -l"
   ]
  },
  {
   "cell_type": "code",
   "execution_count": 2,
   "id": "a3fe89cc-133a-4f75-9da5-606f60a1811c",
   "metadata": {},
   "outputs": [],
   "source": [
    "from main import KeyGenerator"
   ]
  },
  {
   "cell_type": "code",
   "execution_count": 3,
   "id": "bdf59209-5c19-4165-bef7-5500f87dcd56",
   "metadata": {},
   "outputs": [],
   "source": [
    "#                       p   q        publik_key, secret_key\n",
    "# keys = KeyGenerator(256, 128)  # ->  384,         385\n",
    "# keys = KeyGenerator(384, 256)  # ->  637,         639\n",
    "# keys = KeyGenerator(576, 448)  # ->  1022\n",
    "\n",
    "# keys = KeyGenerator(578, 448)  # ->  1026\n",
    "keys = KeyGenerator(512, 512)  # -> "
   ]
  },
  {
   "cell_type": "code",
   "execution_count": 4,
   "id": "a9ee8dcc-b6e2-45e9-a300-5b20b376808a",
   "metadata": {},
   "outputs": [
    {
     "data": {
      "text/plain": [
       "<main.KeyGenerator at 0x7ffaeafb1310>"
      ]
     },
     "execution_count": 4,
     "metadata": {},
     "output_type": "execute_result"
    }
   ],
   "source": [
    "keys"
   ]
  },
  {
   "cell_type": "code",
   "execution_count": 5,
   "id": "3cc43246",
   "metadata": {},
   "outputs": [
    {
     "data": {
      "text/plain": [
       "11630216010031561205960400505235433897102203571426463749153050694049370654930576178712517914647449036029137343480634812754690880534918052634004045650403841"
      ]
     },
     "execution_count": 5,
     "metadata": {},
     "output_type": "execute_result"
    }
   ],
   "source": [
    "keys.p"
   ]
  },
  {
   "cell_type": "code",
   "execution_count": 6,
   "id": "1eb8510f",
   "metadata": {},
   "outputs": [
    {
     "data": {
      "text/plain": [
       "9563779463577146307947578406845208779945942440275576157411966324083151822017691432811963974569526782011551714289141289162596328835538959005016197045427841"
      ]
     },
     "execution_count": 6,
     "metadata": {},
     "output_type": "execute_result"
    }
   ],
   "source": [
    "keys.q"
   ]
  },
  {
   "cell_type": "code",
   "execution_count": 7,
   "id": "adc6c431",
   "metadata": {},
   "outputs": [
    {
     "data": {
      "text/plain": [
       "111228821033705983274214123604741325686419611089396296874081574638539300574199487130251690802217280999211495328183356032639170870964592170053248013422717109646780009807301734702229813755165075171457850655792122934035927397594093960638587440509393800900990487080969549065517224181536673608104775175964274737281"
      ]
     },
     "execution_count": 7,
     "metadata": {},
     "output_type": "execute_result"
    }
   ],
   "source": [
    "keys.module"
   ]
  },
  {
   "cell_type": "code",
   "execution_count": 8,
   "id": "97a06343",
   "metadata": {},
   "outputs": [
    {
     "data": {
      "text/plain": [
       "'0b1001111001100101001001010011001100110001101001100011101101011001000001100111001101111001100010110110011110000010000001111101110100101111010111011000110110110100101011101101110101000010100000000011010110100100000001111001100101001100111101010101000110011110111010010100111111000101110001111000101010000101000101011000000011101000101110111100101001101100000011011110010011000111010101001100000111110110010010000110010001101000001111111111110101111110001011001011110110101000011010010111110111110110000110101000101110110110000101101010100000001100011011100111010011000110110101110101100100100110110001110000110110111010011100011101011101100011101000000110010110111010011010010110101010111000111011111010111000001010000101110001111100100000100111101000000111001010110110011101000101000110101111100100111101111000100010110100101000010000110100110000101101101101110000111100101100001111100101011100111001111010110000000010010111011110101011100001110011101011001000001110001110111110010010100101111111010001100011010000000000000000'"
      ]
     },
     "execution_count": 8,
     "metadata": {},
     "output_type": "execute_result"
    }
   ],
   "source": [
    "str(bin(keys.euler))"
   ]
  },
  {
   "cell_type": "code",
   "execution_count": 9,
   "id": "3f45c285",
   "metadata": {},
   "outputs": [
    {
     "data": {
      "text/plain": [
       "'0b1001111001100101001001010011001100110001101001100011101101011001000001100111001101111001100010110110011110000010000001111101110100101111010111011000110110110100101011101101110101000010100000000011010110100100000001111001100101001100111101010101000110011110111010010100111111000101110001111000101010000101000101011000000011101000101110111100101001101100000011011110010011000111010101001100000111110110010010000110010001101000001111111111110101111110001011001011110110101000011010010111110111110110000110101000110101001010110000001011111110010101100100010011110011001000001101100100001000000100001010010111001110101110001011011101010110000100010001111001000001010001001100110111100110110011010100010011001111110011110100110110001000100101010101101010011101001001111010000011101111100100110011110011011101100000001001000011100001110111110010001001000000000001111001010001011110001011000101000110011000010010000111010010001000110001010101111011100011111001111111000010001100001010110010101100010010110010101001000100000010000001'"
      ]
     },
     "execution_count": 9,
     "metadata": {},
     "output_type": "execute_result"
    }
   ],
   "source": [
    "str(bin(keys.module))"
   ]
  },
  {
   "cell_type": "code",
   "execution_count": 10,
   "id": "a8a0f6f0",
   "metadata": {},
   "outputs": [
    {
     "data": {
      "text/plain": [
       "1026"
      ]
     },
     "execution_count": 10,
     "metadata": {},
     "output_type": "execute_result"
    }
   ],
   "source": [
    "len(str(bin(keys.euler)))"
   ]
  },
  {
   "cell_type": "code",
   "execution_count": 11,
   "id": "09910df1",
   "metadata": {
    "scrolled": true
   },
   "outputs": [
    {
     "data": {
      "text/plain": [
       "1026"
      ]
     },
     "execution_count": 11,
     "metadata": {},
     "output_type": "execute_result"
    }
   ],
   "source": [
    "len(str(bin(keys.module)))"
   ]
  },
  {
   "cell_type": "code",
   "execution_count": 12,
   "id": "de0f1785",
   "metadata": {},
   "outputs": [
    {
     "data": {
      "text/plain": [
       "'0b1011100101001011000110001101001100110111010000000010001101011111101100011110100101001110001011010011010100010010100111111001011110011001011001000101010101101001001001111110100110111100010111110011101110011001000001001001111110110010010011110010111111000000011101010110001100011111100110100101011000000111011001010110100110001001100100001111100111101100101100010001000011101000110001110011011000111000111000110101110101010100010101100011110111001001101001000110111010100110001100110000000010001011111100101111000101111001101010001101000011011111111000100010110011001010010101100010001011110110100011110011101110111100111110101110010001100110001100110111001000111100001101011000011011011100110110101011011000100010111000010011001000011011110010111111101111100000100100110100001000001110100101000011011111010001001011101101011111101110010111000011000001011111000110000011001100110110110010010111111100111101111001101001011001110010101111011010001111011111000011110100011000010111100011110001010001000010000101010001001000000001'"
      ]
     },
     "execution_count": 12,
     "metadata": {},
     "output_type": "execute_result"
    }
   ],
   "source": [
    "str(bin(keys.public_key))"
   ]
  },
  {
   "cell_type": "code",
   "execution_count": 13,
   "id": "4a42e892",
   "metadata": {},
   "outputs": [
    {
     "data": {
      "text/plain": [
       "1026"
      ]
     },
     "execution_count": 13,
     "metadata": {},
     "output_type": "execute_result"
    }
   ],
   "source": [
    "len(str(bin(keys.public_key)))"
   ]
  },
  {
   "cell_type": "code",
   "execution_count": 14,
   "id": "21935ab3",
   "metadata": {
    "scrolled": true
   },
   "outputs": [
    {
     "data": {
      "text/plain": [
       "1026"
      ]
     },
     "execution_count": 14,
     "metadata": {},
     "output_type": "execute_result"
    }
   ],
   "source": [
    "len(str(bin(keys.secret_key)))"
   ]
  },
  {
   "cell_type": "code",
   "execution_count": 15,
   "id": "7495cd3c",
   "metadata": {},
   "outputs": [
    {
     "data": {
      "text/plain": [
       "'0xb94b18d33740235fb1e94e2d35129f979964556927e9bc5f3b99049fb24f2fc075631f9a560765698990f9ecb110e8c73638e35d54563dc9a46ea633008bf2f179a8d0dfe22cca5622f68f3bbcfae46633723c3586dcdab622e1321bcbfbe093420e9437d12ed7ee5c305f183336c97f3de69672bda3df0f46178f1442151201'"
      ]
     },
     "execution_count": 15,
     "metadata": {},
     "output_type": "execute_result"
    }
   ],
   "source": [
    "hex(keys.public_key)"
   ]
  },
  {
   "cell_type": "code",
   "execution_count": 16,
   "id": "5f47b9d2",
   "metadata": {
    "scrolled": true
   },
   "outputs": [
    {
     "data": {
      "text/plain": [
       "258"
      ]
     },
     "execution_count": 16,
     "metadata": {},
     "output_type": "execute_result"
    }
   ],
   "source": [
    "len(hex(keys.public_key))"
   ]
  },
  {
   "cell_type": "code",
   "execution_count": null,
   "id": "f3e50e91",
   "metadata": {},
   "outputs": [],
   "source": []
  }
 ],
 "metadata": {
  "kernelspec": {
   "display_name": "Python 3 (ipykernel)",
   "language": "python",
   "name": "python3"
  },
  "language_info": {
   "codemirror_mode": {
    "name": "ipython",
    "version": 3
   },
   "file_extension": ".py",
   "mimetype": "text/x-python",
   "name": "python",
   "nbconvert_exporter": "python",
   "pygments_lexer": "ipython3",
   "version": "3.11.2"
  }
 },
 "nbformat": 4,
 "nbformat_minor": 5
}
