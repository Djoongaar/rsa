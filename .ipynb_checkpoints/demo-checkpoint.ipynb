{
 "cells": [
  {
   "cell_type": "markdown",
   "id": "cd38c42c",
   "metadata": {},
   "source": [
    "### Приложение 2\n",
    "Демонстрация работы программы"
   ]
  },
  {
   "cell_type": "code",
   "execution_count": 1,
   "id": "9a4530e1",
   "metadata": {
    "scrolled": true
   },
   "outputs": [
    {
     "name": "stdout",
     "output_type": "stream",
     "text": [
      "total 48\n",
      "-rw-r--r--  1 lubabordaeva  staff     0 Apr 19 23:08 __init__.py\n",
      "-rw-r--r--  1 lubabordaeva  staff  6214 Apr 20 23:30 demo.ipynb\n",
      "-rw-r--r--  1 lubabordaeva  staff  5589 Apr 19 23:08 keygen.py\n",
      "-rw-r--r--  1 lubabordaeva  staff   408 Apr 20 18:41 open.txt\n",
      "-rw-r--r--  1 lubabordaeva  staff  4017 Apr 20 23:28 rsa.py\n"
     ]
    }
   ],
   "source": [
    "# Сначала очистим директорию от артифактов предыдущих запусков кода\n",
    "\n",
    "!rm -f encrypted.txt decrypted.txt key.*\n",
    "!ls -l"
   ]
  },
  {
   "cell_type": "code",
   "execution_count": 2,
   "id": "a3fe89cc-133a-4f75-9da5-606f60a1811c",
   "metadata": {},
   "outputs": [
    {
     "ename": "NameError",
     "evalue": "name 'KeyGenerator' is not defined",
     "output_type": "error",
     "traceback": [
      "\u001b[0;31m---------------------------------------------------------------------------\u001b[0m",
      "\u001b[0;31mNameError\u001b[0m                                 Traceback (most recent call last)",
      "Cell \u001b[0;32mIn[2], line 8\u001b[0m\n\u001b[1;32m      1\u001b[0m \u001b[38;5;66;03m# Запускаем генерацию ключевой пары\u001b[39;00m\n\u001b[1;32m      2\u001b[0m \u001b[38;5;66;03m# Скрипт по-умолчанию создаёт пару ключей с названиями \"key.pub\" \u001b[39;00m\n\u001b[1;32m      3\u001b[0m \u001b[38;5;66;03m# и \"key.secret\", или можно напрямую передать скрипту префикс и \u001b[39;00m\n\u001b[1;32m      4\u001b[0m \u001b[38;5;66;03m# получить пару ключей с другими названиями\u001b[39;00m\n\u001b[1;32m      5\u001b[0m \n\u001b[1;32m      6\u001b[0m \u001b[38;5;66;03m# from keygen import KeyGenerator\u001b[39;00m\n\u001b[0;32m----> 8\u001b[0m \u001b[43mKeyGenerator\u001b[49m(\u001b[38;5;241m512\u001b[39m, \u001b[38;5;241m512\u001b[39m)\n\u001b[1;32m     10\u001b[0m get_ipython()\u001b[38;5;241m.\u001b[39msystem(\u001b[38;5;124m'\u001b[39m\u001b[38;5;124mls -l\u001b[39m\u001b[38;5;124m'\u001b[39m)\n",
      "\u001b[0;31mNameError\u001b[0m: name 'KeyGenerator' is not defined"
     ]
    }
   ],
   "source": [
    "# Запускаем генерацию ключевой пары\n",
    "# Скрипт по-умолчанию создаёт пару ключей с названиями \"key.pub\" \n",
    "# и \"key.secret\", или можно напрямую передать скрипту префикс и \n",
    "# получить пару ключей с другими названиями\n",
    "\n",
    "from keygen import KeyGenerator\n",
    "\n",
    "KeyGenerator(512, 512)\n",
    "\n",
    "!ls -l"
   ]
  },
  {
   "cell_type": "code",
   "execution_count": null,
   "id": "9726677c",
   "metadata": {},
   "outputs": [],
   "source": [
    "from rsa import RSA\n",
    "rsa = RSA(\"key.pub\", \"key.secret\")\n",
    "rsa"
   ]
  },
  {
   "cell_type": "code",
   "execution_count": null,
   "id": "47749dc2",
   "metadata": {},
   "outputs": [],
   "source": [
    "# Для наглядности вывожу в строчном представлении модели её основные\n",
    "# параметры\n",
    "rsa.__str__()"
   ]
  },
  {
   "cell_type": "code",
   "execution_count": null,
   "id": "44ead49d",
   "metadata": {},
   "outputs": [],
   "source": [
    "!cat open.txt"
   ]
  },
  {
   "cell_type": "code",
   "execution_count": null,
   "id": "63a61369",
   "metadata": {},
   "outputs": [],
   "source": [
    "a = rsa.decrypt(\"open.txt\")"
   ]
  },
  {
   "cell_type": "code",
   "execution_count": null,
   "id": "59c39e33",
   "metadata": {},
   "outputs": [],
   "source": []
  }
 ],
 "metadata": {
  "kernelspec": {
   "display_name": "Python 3 (ipykernel)",
   "language": "python",
   "name": "python3"
  },
  "language_info": {
   "codemirror_mode": {
    "name": "ipython",
    "version": 3
   },
   "file_extension": ".py",
   "mimetype": "text/x-python",
   "name": "python",
   "nbconvert_exporter": "python",
   "pygments_lexer": "ipython3",
   "version": "3.9.6"
  }
 },
 "nbformat": 4,
 "nbformat_minor": 5
}
