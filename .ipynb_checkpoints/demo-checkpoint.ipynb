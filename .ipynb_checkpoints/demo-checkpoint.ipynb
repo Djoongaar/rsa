{
 "cells": [
  {
   "cell_type": "markdown",
   "id": "cd38c42c",
   "metadata": {},
   "source": [
    "### Приложение 2\n",
    "Демонстрация работы программы"
   ]
  },
  {
   "cell_type": "code",
   "execution_count": 1,
   "id": "9a4530e1",
   "metadata": {},
   "outputs": [
    {
     "name": "stdout",
     "output_type": "stream",
     "text": [
      "total 88\n",
      "-rw-r--r--  1 lubabordaeva  staff      0 Apr 19 23:08 __init__.py\n",
      "-rw-r--r--  1 lubabordaeva  staff    256 Apr 21 04:14 decrypted.txt\n",
      "-rw-r--r--  1 lubabordaeva  staff  10257 Apr 21 04:17 demo.ipynb\n",
      "-rw-r--r--  1 lubabordaeva  staff    128 Apr 21 04:14 encrypted.txt\n",
      "-rw-r--r--  1 lubabordaeva  staff    517 Apr 21 03:41 key.pub\n",
      "-rw-r--r--  1 lubabordaeva  staff    517 Apr 21 03:41 key.secret\n",
      "-rw-r--r--  1 lubabordaeva  staff   4902 Apr 21 03:37 keygen.py\n",
      "-rw-r--r--  1 lubabordaeva  staff    408 Apr 22 08:57 open.txt\n",
      "-rw-r--r--  1 lubabordaeva  staff   3979 Apr 21 04:13 rsa.py\n"
     ]
    }
   ],
   "source": [
    "# Сначала очистим директорию от артифактов предыдущих запусков кода\n",
    "\n",
    "# !rm -f encrypted.txt decrypted.txt  # key.*\n",
    "!ls -l"
   ]
  },
  {
   "cell_type": "code",
   "execution_count": 2,
   "id": "a3fe89cc-133a-4f75-9da5-606f60a1811c",
   "metadata": {},
   "outputs": [],
   "source": [
    "# Запускаем генерацию ключевой пары\n",
    "# Скрипт по-умолчанию создаёт пару ключей с названиями \"key.pub\" \n",
    "# и \"key.secret\", или можно напрямую передать скрипту префикс и \n",
    "# получить пару ключей с другими названиями\n",
    "\n",
    "# from keygen import KeyGenerator\n",
    "\n",
    "# KeyGenerator(512, 512)\n",
    "\n",
    "# !ls -l"
   ]
  },
  {
   "cell_type": "code",
   "execution_count": 3,
   "id": "9726677c",
   "metadata": {},
   "outputs": [
    {
     "data": {
      "text/plain": [
       "<rsa.RSA at 0x10ea217c0>"
      ]
     },
     "execution_count": 3,
     "metadata": {},
     "output_type": "execute_result"
    }
   ],
   "source": [
    "from rsa import RSA\n",
    "rsa = RSA(\"key.pub\", \"key.secret\")\n",
    "rsa"
   ]
  },
  {
   "cell_type": "code",
   "execution_count": 4,
   "id": "47749dc2",
   "metadata": {},
   "outputs": [
    {
     "data": {
      "text/plain": [
       "{'public_key': '0X26A54AADDFF9094FC161307514975397745A66E17115E6044789572E0D43C835A5CD26070D8A8604A63217A809B31C7F5B38797EEF9DC6A77A5795BEE02872F62B18BBD619DED97D2887A695FD327B2A865D2CDBD5CD9AA9653AB4527D3D4A91478FC8B5A86E07C1B835936315512EB43B3DBDF5D121A07B2BB6D509CF59B411',\n",
       " 'public_key_int': 27137912900330940305828428415754266286290575235327132380679725975338154073532879764181441521798106852960929766792101821911899143990185715704133999819713524091509560940079879983946668919562512394455146800399836383057841060056312583227479974052223349477404374818169718324648876937792262524627211576026255176721,\n",
       " 'secret_key': '0X36700F71F7BBEE5C3D0C14B091E5D8D922A158BECD8FC858D2A46744DC554A66338AC96278E9B39B378FAB13F27D9762DEF9DB90F36F4D14795E5A79AD29763162DFE67093425CAE0B0AA250E85442F024E79075ACA837674A1BE01F8A8E2E5ABB31E6DAE0E0280FC61B5DECFA3F60A91271DCDAA92D851BA0A0316EE4D83CF1',\n",
       " 'secret_key_int': 38227478007855799663465866741747695836967782332077413165054692143022142327666284283171677138374154135929293291709479608713615806331563007390329488397349746438158798281363902171354837298690311496589570570968290991197374875192040720249757897386796922291588010772624062918280520712042723376891917404028962094321,\n",
       " 'module': '0X517CD0C3A6CB9B3413137DFA59DBF98667C68095F0CDFE1D3C16C8089717620D6B1F6AA4ECE3D3F2922CE80B502ECCCAD8D945A1CFF605CE854D51806E62F49B167912C62D14938A49264313F3C6DBF582A9028E886C65B898C2F4B1E6D32BE0CB2BA8E7372FF6F9C2FDC9E69E6DE7FCAEEDEB2779146FEB7E43D2B0AD306CE1',\n",
       " 'module_int': 57222510964573999726158441484418043149351103497948849221123383355841505618982572728469288290501677720019209596073565095338516326038063764808566922628948770319444430606287707270158658804376743787971289586030831382946032321900855372373981518284370374211784587079394989776066601134773411992063502071207056927969,\n",
       " 'block_size': 1022}"
      ]
     },
     "execution_count": 4,
     "metadata": {},
     "output_type": "execute_result"
    }
   ],
   "source": [
    "# Для наглядности вывожу в строчном представлении модели её основные\n",
    "# параметры\n",
    "rsa.__str__()"
   ]
  },
  {
   "cell_type": "code",
   "execution_count": 5,
   "id": "5fefcb08-e463-4d51-9950-c4a9cdde1d0e",
   "metadata": {},
   "outputs": [
    {
     "name": "stdout",
     "output_type": "stream",
     "text": [
      "27137912900330940305828428415754266286290575235327132380679725975338154073532879764181441521798106852960929766792101821911899143990185715704133999819713524091509560940079879983946668919562512394455146800399836383057841060056312583227479974052223349477404374818169718324648876937792262524627211576026255176721\n",
      "38227478007855799663465866741747695836967782332077413165054692143022142327666284283171677138374154135929293291709479608713615806331563007390329488397349746438158798281363902171354837298690311496589570570968290991197374875192040720249757897386796922291588010772624062918280520712042723376891917404028962094321\n",
      "57222510964573999726158441484418043149351103497948849221123383355841505618982572728469288290501677720019209596073565095338516326038063764808566922628948770319444430606287707270158658804376743787971289586030831382946032321900855372373981518284370374211784587079394989776066601134773411992063502071207056927969\n"
     ]
    }
   ],
   "source": [
    "print(rsa.public_key_int)\n",
    "print(rsa.secret_key_int)\n",
    "print(rsa.module_int)\n",
    "a = pow(7, rsa.public_key_int, rsa.module_int)\n",
    "b = pow(a, rsa.secret_key_int, rsa.module_int)\n",
    "\n",
    "assert b == 7"
   ]
  },
  {
   "cell_type": "code",
   "execution_count": 6,
   "id": "44ead49d",
   "metadata": {},
   "outputs": [
    {
     "name": "stdout",
     "output_type": "stream",
     "text": [
      "Прощай немытая Россия,\n",
      "Страна рабов, страна господ,\n",
      "И вы, мундиры голубые,\n",
      "И ты, им преданный народ.\n",
      "\n",
      "Быть может, за стеной Кавказа\n",
      "Сокроюсь от твоих пашей,\n",
      "От их всевидящего глаза,\n",
      "От их всеслышащих ушей.\n",
      "\n",
      "Михаил Лермонтов, 1841г."
     ]
    }
   ],
   "source": [
    "!cat open.txt"
   ]
  },
  {
   "cell_type": "code",
   "execution_count": 17,
   "id": "02d473d5-5565-4bf9-9759-70b136bb5a38",
   "metadata": {},
   "outputs": [
    {
     "data": {
      "text/plain": [
       "408"
      ]
     },
     "execution_count": 17,
     "metadata": {},
     "output_type": "execute_result"
    }
   ],
   "source": [
    "with open(\"open.txt\", \"rb\") as file:\n",
    "    open_text = file.read()\n",
    "\n",
    "len(open_text)"
   ]
  },
  {
   "cell_type": "code",
   "execution_count": 7,
   "id": "63a61369",
   "metadata": {},
   "outputs": [],
   "source": [
    "a = rsa.encrypt(\"open.txt\")"
   ]
  },
  {
   "cell_type": "code",
   "execution_count": 8,
   "id": "12f32cf3-92eb-4046-8b3d-37ca998f1a45",
   "metadata": {},
   "outputs": [
    {
     "data": {
      "text/plain": [
       "bytearray(b\"=\\x19\\x95\\x91\\xc9\\xf4\\xe4\\x97b\\x8f\\xf80\\xb6\\xa05+\\x1fc\\xfdrP\\x0e\\xb2G5\\xc1\\x11x\\xb2*\\x8d\\xb9vB\\xbb\\xab\\r\\x981\\x01~\\xb2\\x97\\x86K\\x06\\xa7,M\\xde2\\x85\\xba\\x1fz|\\xc5\\xabm\\xaf\\xb0\\x92VG*!X\\xec:\\x85\\x8cQ\\xfa0\\'\\xe8\\x1c\\xaf\\xa8\\xf49z\\x99\\xbdM\\xde5\\xef!\\xe8\\xe5d\\xef0\\x174*\\x17\\xf8\\x9c\\xdf\\x9f\\xa1S\\xb9\\x05;\\xa9\\xee\\x19\\xa9\\x89\\x83\\x8a\\xd0\\x89\\x9e\\xee\\xd2\\r\\x03\\xca\\xe8=\\x94e$=K1\\xa9\\xab\\x1e\\xef`@\\x84\\xf3\\xeaH\\xfb\\x7f\\x8f\\xd8\\xc4~\\xe8,\\xe0\\n*\\xdd\\xb8\\x7fO\\x13\\xb3\\xa9s@\\x07w\\x88\\xef\\xc3\\xfa\\n\\xd0,J\\xd1\\xab\\xffW\\x1c\\x8aKN\\x86\\xf5\\xfb\\x17M\\x81\\x00\\xb0r\\xda~?%\\xbeH\\xe8#\\x8f\\xe6M<.\\x15AD\\xde\\x1bm\\xa6\\xefd\\xef\\xbd\\xcd\\xa2d^\\xce\\x0e\\xf2JE\\xf1\\xfc\\xc4=\\xe6\\x9eL\\x9d\\x86Mx\\xa3\\x9d\\xa6=\\xffqZ\\xf30\\x02\\xb8^\\x89\\x12\\r\\xba\\xaaW\\xe6-\\x1d\\xd1\\x8ed\\x00?\\xee\\xbc\\xd7\\xa6\\xb1\\xe1A\\xa7\\xbf\\x17\\xc0@\\xc7\\xf8\\x11*\\xed\\xda\\x19\\x9d\\xbb\\xda\\x8c\\x03\\xd8\\xe7-\\xe7\\x10\\xaa\\x950N\\xc4\\xfe#m\\xca\\x94\\x82D\\x02\\x9a g\\xf8\\x03\\xc5\\xb2^\\x10n\\xd1\\xe9\\xa5\\x19\\x17\\x0f\\x84\\xb4\\x92hs\\xa9\\x9c[\\x19\\x9e\\xec\\xde\\tw[N\\xbf{T9\\xbf\\xc7\\x1e\\xc7\\xcf\\x9e\\x87\\x94\\x8d\\x83\\x8c\\xfen\\xd9\\xcblB/\\\\Z\\x95\\x89V\\xc1\\xbd\\xa0\\x9a\\x14\\x7f\\xfd\\x04\\xe5\\xb7\\x8b\\xb2)X<~\\x9c\\xce~8\\x93\\xe8\\xc2\\xcbh\\xf1K\\xb7\\x9a}:\\xf0\\x10\\x85f:\\xd3\\xafD4f\\xd4\\xcb4\\x10K\\xba\\xed\\x9f#P\\x89\\x0eu\\x07\\x1a\\x8a\\xd5\\x14\\xe4f\\xc4\\xd9\\xc9\\t\\xee\\x05\\xe4\\xea`\\x84\\x85\\xf7\\xb5\\xff\\xd6\\x1f|\\x96\\xfd,\\x1c\\xc4\\x000\\x02\\x94\\xf6\\xc1\\xc5\\x98\\\\\\xe6\\xbc\\x80\\x7f\\xa0u\\xab\\xd5\\xc7\\xe8V\\xda\\x1a!4A\\x83\\x8eD\\xd7\\xc1#\\x95\\xf4\\xb0-T\\x1bo\\t\\xf2\\xd9\\x82\\x9b\\'\\x1c\\x8dp\\xe7\\x90\\xc9\\x99\\xbd7\\xd8\\x08Zz8GU\\x98#\\x96\\x12\\xac$\\xd9\\xb7\\x07\\xad\\xf8\")"
      ]
     },
     "execution_count": 8,
     "metadata": {},
     "output_type": "execute_result"
    }
   ],
   "source": [
    "a"
   ]
  },
  {
   "cell_type": "code",
   "execution_count": 21,
   "id": "5b6018cc-f9ac-4151-b1b5-96a2e72c8827",
   "metadata": {},
   "outputs": [
    {
     "name": "stdout",
     "output_type": "stream",
     "text": [
      "\u0003��=�e$=K1��\u001e",
      "�`@���H����~�,��:��Q�0'�\u001c",
      "���9z��M�5�!��d�0\u00174*\u0017��ߟ�S�\u0005;��\u0019����Љ���\n",
      "*ݸO\u0013��s@\u0007w����\n",
      "��W�-\u001d",
      "юd\u0000?�צ��A��\u0017�@��\u0011*��\u0019��ڌ\u0003��-�\u0010��0N��#mʔ�D\u0002� g�\u0003Ų^\u0010n��\u0019\u0017\u000f���hs��[\u0019���\tw[N�{T9��\u001e",
      "�Ϟ������n��lB/\\Z��V����\u0014�\u0004巋�)X<~��~8����h�K��}:�\u0010�f:ӯD4f��4\u0010K��#P�\u000eu\u0007\u001a��\u0014�f���\t�\u0005��`������\u001f|��,\u001c",
      "�\u00000\u0002���Ř\\漀�u����V�\u001a!4A��D��#���-T\u001bo\t�ق�'\u001c",
      "�p�ə�7Zz8GU�#�\u0012�$ٷ\u0007��"
     ]
    }
   ],
   "source": [
    "!cat encrypted.txt"
   ]
  },
  {
   "cell_type": "code",
   "execution_count": 9,
   "id": "1fbe4114-38d9-456d-acc7-5bce755efff7",
   "metadata": {},
   "outputs": [
    {
     "data": {
      "text/plain": [
       "512"
      ]
     },
     "execution_count": 9,
     "metadata": {},
     "output_type": "execute_result"
    }
   ],
   "source": [
    "len(a)"
   ]
  },
  {
   "cell_type": "code",
   "execution_count": 18,
   "id": "59c39e33",
   "metadata": {},
   "outputs": [
    {
     "data": {
      "text/plain": [
       "bytearray(b'\\x1b\\x07\\xb535\\xa3\\x03a\\xec\\xe5\\r7\\xfd\\xa34\\xfeKy\\x93\\xa1\\xe7v\\xab\\xa4\\xb0&J\\xc7\\x98/\\xab\\xe4\\x9a\\xc5\\x1a\\x15\\xc1\\x8f(\\xa6-\\xe1}\\xa0\\x8e\\xd3\\x01F\\xd4\\xbdz\\xdf/7\\';\\xce\\xee{\\x89eI\\x84\\xe70O\\xbe\\x93\\x07TH/G\\x8b?\\xb8\\xc5\\x1b{q\\x80\\xc0L\\xc7\\x1fz\\x8d\\x11\\x08P\\\\\\xbc!\\x88<\\xa7y\\xb1\\x17\\xfaY\\x10\\x88\\x0f\\xb6^\\x0fkc\\x83\\xdb#o\\xb8S\\x89\\x87\\xf5a\\r\\xf6\\x80L%8\\xcc3]\\x1d\\xe6T\\x84\\x02W\\xaa\\x01\\x8cw\\x13\\xf8\\xf2\\x91\\xb5\\xc3\\xad\\x12\\xe2\\xa1\\xcf\\xc3\\x93\\xd2?\\xce\\x9a\\x84\\x04\\xa15\\x8b,\\xf8\\xfa\\x16\"\\x0b\\xe8\\xb9\\x87\\x8blB\\xe1\\xd6g\\xf6\\r\\xc25\\xc5\\x10\\xb3\\x1bON\\xe4\\x94$\\xe6B\\xcf\\x9b\\xb7Q]IrD\\xdbM\\xc877\\xe0\\xaa\\xfb\\xb5z4\\xdf\\xf5H\\xdd X\\xcf&\\x0c2\\x0b&E\\xf7\\xfa\\xa2Ct\\xee44\\x8fI\\xe9\\x1b-\\xb3\\xb4\\xf1\\xdf\\xaf-\\xf7R\\xc1\\xd6t\\xf3\\xab\\xa4y\\x94V\\xad\\x0bkcD\\xb7\\x88\\x16\\xe3\\x8a\\x10\\xd6\\x0b\\xcf\\x0cT\\xb8q\\'\\xb2A\\x89T\\xb7L\\n\\x87Z\\x04\\xa7yA\\x8e\\x06\\x9di\\xae\\xa0\\xe1R\\x9dm\\xbd\\x06g\\x93|\\xd2\\x95RN\\xbe\\xd0{hzT\\x93((\\x90K\\xb2\\xaf\\x8eNQ&\\xc6\\xf0\\x85\\x85\\xb0\\xcb\\x85\\xaf2\\x88\\xadv\\xd2\\x86\\xcd\\xf0\\x81f\\xa7\\n.\\x0c\\xd3?\\xeam\\xe3\\x8e\\xea?\"m\\x1c\\n\\x8b\\xcc \\xb6\\x82\\x93V\\xaa\\x8d\\r<\\x10\\x1cc\\x87\\nLI4\\x07\\xa3\\xa8q\\x0fN)V\\xf1\\xb19(\\xa1\\x90V\\x06\\xafW$\\x80A\\xcd\\x92J2;\\xc6\\xa9\\xcd\\x13\\xb6\\x87s\\x1e\\xd2\\x06w\\xc6\\xc1\\xf7\\x9c\\xa6\\xe5T\\xcd;\\xb8\\xd8\\x97E[\\x90=\\x1a\\x9c\\xfcz\\x1c\\xd7L<Q\\xa6l)\\xc6AW\\xa8\\xef\\xdc\\xb2@\\x00\\'\\x95\\xb2\\xb8\\xf2\\xddS\\xd4\\x15\\xc7\\xc4;X\\xad\\xbe\\xbb\\xa5\\xb3\\xef\\xc7C\\xa2\\xa8\\xb3\\xb0\\x9f\\x03?\\x10\\xb3\\xccl\\xffN\\x7f\\xaf\\xe1\\x11r\\x9es\\xea\\xea_<\\x1f\\xacpl\\x8d\\xb8\\xf6\\xb7Rj6\\x972\\\\\\xf4\\xbe\\x86\\xfd\\'i\\x00\\x00\\x00\\x00\\x00\\x00\\x00\\x00\\x00\\x00\\x00\\x00\\x00\\x00\\x00\\x00\\x00\\x00\\x00\\x00\\x00\\x00\\x00\\x00\\x00\\x00\\x00\\x00\\x00\\x00\\x00\\x00\\x00\\x00\\x00\\x00\\x00\\x00\\x00\\x00\\x00\\x00\\x00\\x00\\x00\\x00\\x00\\x00\\x00\\x00\\x00\\x00\\x00\\x00\\x00\\x00\\x00\\x00\\x00\\x00\\x00\\x00\\x00\\x00\\x00\\x00\\x00\\x00\\x00\\x00\\x00\\x00\\x00\\x00\\x00\\x00\\x00\\x00\\x00\\x00\\x00\\x00\\x00\\x00\\x00\\x00\\x00\\x00\\x00\\x00\\x00\\x00\\x00\\x00\\x00\\x00\\x00\\x00\\x00\\x00\\x00\\x00\\x00\\x00\\x00\\x00\\x00\\x00\\x00\\x00\\x00\\x00\\x00\\x00\\x00\\x00\\x00\\x00\\x00\\x00\\x00\\x00\\x00\\x00\\x00\\x00\\x00\\x00')"
      ]
     },
     "execution_count": 18,
     "metadata": {},
     "output_type": "execute_result"
    }
   ],
   "source": [
    "b = rsa.decrypt(\"encrypted.txt\")"
   ]
  },
  {
   "cell_type": "code",
   "execution_count": 19,
   "id": "0c3bc7a4-a0e0-44dc-bcb8-154a097bb3c8",
   "metadata": {},
   "outputs": [
    {
     "data": {
      "text/plain": [
       "640"
      ]
     },
     "execution_count": 19,
     "metadata": {},
     "output_type": "execute_result"
    }
   ],
   "source": [
    "len(b)"
   ]
  },
  {
   "cell_type": "code",
   "execution_count": 20,
   "id": "292cf377-e3d6-4926-9528-3f436c0fa57c",
   "metadata": {},
   "outputs": [
    {
     "name": "stdout",
     "output_type": "stream",
     "text": [
      "�5�\u0010�\u001bON�$�Bϛ�Q]IrD�M�77���z4��H� X�&\f",
      "2\u000b",
      "&E���Ct�44�I�\u001b-���߯-�R��t�y�V�\u000b",
      "kcD��\u0016�\u0010�\u000b",
      "�\f",
      "T�q'�A�T�L��#o�S���a\n",
      "�Z\u0004�yA�\u0006�i���R�m�\u0006g�|ҕRN��{hzT�((�K���NQ&�����˅�2��v҆���f�\n",
      ".\f",
      "�?�m��?\"m\u001c",
      "\n",
      "<\u0010\u001c",
      "c��V��\n",
      "LI4\u0007��q\u000fN)V�9(��V\u0006�W$�A͒J2;Ʃ�\u0013��s\u001e",
      "�\u0006w������T�;�ؗE[�=\u001a��z\u001c",
      "�L<Q�l)�AW��ܲ@\u0000'�����S�\u0015��;X�������C�����\u0003?\u0010��l�N��\u0011r�s��_<\u001f�pl����Rj6�2\\����'i\u0000\u0000\u0000\u0000\u0000\u0000\u0000\u0000\u0000\u0000\u0000\u0000\u0000\u0000\u0000\u0000\u0000\u0000\u0000\u0000\u0000\u0000\u0000\u0000\u0000\u0000\u0000\u0000\u0000\u0000\u0000\u0000\u0000\u0000\u0000\u0000\u0000\u0000\u0000\u0000\u0000\u0000\u0000\u0000\u0000\u0000\u0000\u0000\u0000\u0000\u0000\u0000\u0000\u0000\u0000\u0000\u0000\u0000\u0000\u0000\u0000\u0000\u0000\u0000\u0000\u0000\u0000\u0000\u0000\u0000\u0000\u0000\u0000\u0000\u0000\u0000\u0000\u0000\u0000\u0000\u0000\u0000\u0000\u0000\u0000\u0000\u0000\u0000\u0000\u0000\u0000\u0000\u0000\u0000\u0000\u0000\u0000\u0000\u0000\u0000\u0000\u0000\u0000\u0000\u0000\u0000\u0000\u0000\u0000\u0000\u0000\u0000\u0000\u0000\u0000\u0000\u0000\u0000\u0000\u0000\u0000\u0000\u0000\u0000\u0000\u0000\u0000\u0000"
     ]
    }
   ],
   "source": [
    "!cat decrypted.txt"
   ]
  },
  {
   "cell_type": "code",
   "execution_count": null,
   "id": "b7ed9df6-ed46-472e-9988-1e3f89ee39d3",
   "metadata": {},
   "outputs": [],
   "source": []
  }
 ],
 "metadata": {
  "kernelspec": {
   "display_name": "Python 3 (ipykernel)",
   "language": "python",
   "name": "python3"
  },
  "language_info": {
   "codemirror_mode": {
    "name": "ipython",
    "version": 3
   },
   "file_extension": ".py",
   "mimetype": "text/x-python",
   "name": "python",
   "nbconvert_exporter": "python",
   "pygments_lexer": "ipython3",
   "version": "3.9.6"
  }
 },
 "nbformat": 4,
 "nbformat_minor": 5
}
