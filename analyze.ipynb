{
 "cells": [
  {
   "cell_type": "markdown",
   "id": "c53ed816-d9eb-4248-a4b6-e913177ae55f",
   "metadata": {},
   "source": [
    "### Приложение 3\n",
    "#### Криптоанализ алгоритма RSA"
   ]
  },
  {
   "cell_type": "code",
   "execution_count": 1,
   "id": "fd244d28-17f3-484c-86ff-6b47ba3e65cb",
   "metadata": {},
   "outputs": [
    {
     "name": "stdout",
     "output_type": "stream",
     "text": [
      "total 436\n",
      "-rw-r--r-- 1 evgeny evgeny   5625 Apr 24 12:54 analyze.ipynb\n",
      "-rw-r--r-- 1 evgeny evgeny  77996 Apr 24 13:01 demo.ipynb\n",
      "-rw-r--r-- 1 evgeny evgeny 287142 Apr 23 17:18 demo.pdf\n",
      "-rw-r--r-- 1 evgeny evgeny  35117 Apr 23 16:57 image.png\n",
      "-rw-r--r-- 1 evgeny evgeny   4222 Apr 24 12:50 keygen.py\n",
      "-rw-r--r-- 1 evgeny evgeny    408 Apr 20 15:36 open.txt\n",
      "drwxr-xr-x 2 evgeny evgeny   4096 Apr 24 12:51 __pycache__\n",
      "-rw-r--r-- 1 evgeny evgeny   5160 Apr 23 16:57 rsa.py\n",
      "drwxr-xr-x 6 evgeny evgeny   4096 Apr 15 15:18 venv\n"
     ]
    }
   ],
   "source": [
    "# Сначала очистим директорию от артифактов предыдущих запусков кода\n",
    "\n",
    "!rm -f encrypted.* decrypted.* *.public *.secret\n",
    "!ls -l"
   ]
  },
  {
   "cell_type": "code",
   "execution_count": 2,
   "id": "1f128fcd-4f75-47d0-894d-a8b80aef4974",
   "metadata": {},
   "outputs": [
    {
     "name": "stdout",
     "output_type": "stream",
     "text": [
      "total 444\n",
      "-rw-r--r-- 1 evgeny evgeny   5625 Apr 24 12:54 analyze.ipynb\n",
      "-rw-r--r-- 1 evgeny evgeny  77996 Apr 24 13:01 demo.ipynb\n",
      "-rw-r--r-- 1 evgeny evgeny 287142 Apr 23 17:18 demo.pdf\n",
      "-rw-r--r-- 1 evgeny evgeny  35117 Apr 23 16:57 image.png\n",
      "-rw-r--r-- 1 evgeny evgeny   4222 Apr 24 12:50 keygen.py\n",
      "-rw-r--r-- 1 evgeny evgeny    408 Apr 20 15:36 open.txt\n",
      "drwxr-xr-x 2 evgeny evgeny   4096 Apr 24 12:51 __pycache__\n",
      "-rw-r--r-- 1 evgeny evgeny   5160 Apr 23 16:57 rsa.py\n",
      "-rw-r--r-- 1 evgeny evgeny     11 Apr 24 13:02 small.public\n",
      "-rw-r--r-- 1 evgeny evgeny     13 Apr 24 13:02 small.secret\n",
      "drwxr-xr-x 6 evgeny evgeny   4096 Apr 15 15:18 venv\n"
     ]
    }
   ],
   "source": [
    "# Ключи большой блины с правильными параметрами p и q взломать за вменяемое время невозможно.\n",
    "# Буду демонстрировать попытку взлома RSA малой длины и не верными параметрами p и q (с малой разницей)\n",
    "\n",
    "# Сгенерирую пару ключей с префиксом small\n",
    "\n",
    "from keygen import KeyGenerator\n",
    "\n",
    "KeyGenerator(8, 8, \"small\")\n",
    "\n",
    "# Проверим создались ли файлы с ключами\n",
    "!ls -l"
   ]
  },
  {
   "cell_type": "code",
   "execution_count": 3,
   "id": "a6517a88-f4b8-4c46-80b0-61c1867cf6c9",
   "metadata": {},
   "outputs": [
    {
     "name": "stdout",
     "output_type": "stream",
     "text": [
      "{'public_key': '0XF1', 'public_key_int': 241, 'public_key_bin': '0b11110001', 'public_key_len': 8}\n"
     ]
    }
   ],
   "source": [
    "# Вижу два ключа small.pub и small.secret\n",
    "# Измерю их длину и длину модуля\n",
    "\n",
    "# Открытый ключ\n",
    "\n",
    "with open(\"small.public\", \"r\") as file:\n",
    "    public_key, modul = file.read().split(\"/\")\n",
    "\n",
    "print({\n",
    "    \"public_key\": public_key,\n",
    "    \"public_key_int\": int(public_key, 0),\n",
    "    \"public_key_bin\": bin(int(public_key, 0)),\n",
    "    \"public_key_len\": len(bin(int(public_key, 0))[2:])\n",
    "})"
   ]
  },
  {
   "cell_type": "code",
   "execution_count": 4,
   "id": "a423c6c1-ef1b-4620-b17d-d7151625449d",
   "metadata": {},
   "outputs": [
    {
     "name": "stdout",
     "output_type": "stream",
     "text": [
      "{'secret_key': '0X4FA5', 'secret_key_int': 20389, 'secret_key_bin': '0b100111110100101', 'secret_key_len': 15}\n"
     ]
    }
   ],
   "source": [
    "# Закрытый ключ\n",
    "\n",
    "with open(\"small.secret\", \"r\") as file:\n",
    "    secret_key = file.read().split(\"/\")[0]\n",
    "    \n",
    "print({\n",
    "    \"secret_key\": secret_key,\n",
    "    \"secret_key_int\": int(secret_key, 0),\n",
    "    \"secret_key_bin\": bin(int(secret_key, 0)),\n",
    "    \"secret_key_len\": len(bin(int(secret_key, 0))[2:])\n",
    "})"
   ]
  },
  {
   "cell_type": "code",
   "execution_count": 5,
   "id": "ecd5e73c-69e8-483a-952d-ba583ffe252a",
   "metadata": {},
   "outputs": [
    {
     "name": "stdout",
     "output_type": "stream",
     "text": [
      "{'modul': '0XD031', 'modul_int': 53297, 'modul_bin': '0b1101000000110001', 'modul_len': 16}\n"
     ]
    }
   ],
   "source": [
    "# Модуль\n",
    "\n",
    "print({\n",
    "    \"modul\": modul,\n",
    "    \"modul_int\": int(modul, 0),\n",
    "    \"modul_bin\": bin(int(modul, 0)),\n",
    "    \"modul_len\": len(bin(int(modul, 0))[2:])\n",
    "})"
   ]
  },
  {
   "cell_type": "code",
   "execution_count": null,
   "id": "8fd84d70-0469-4bb7-ab19-eb86a1e4c032",
   "metadata": {},
   "outputs": [],
   "source": []
  }
 ],
 "metadata": {
  "kernelspec": {
   "display_name": "Python 3 (ipykernel)",
   "language": "python",
   "name": "python3"
  },
  "language_info": {
   "codemirror_mode": {
    "name": "ipython",
    "version": 3
   },
   "file_extension": ".py",
   "mimetype": "text/x-python",
   "name": "python",
   "nbconvert_exporter": "python",
   "pygments_lexer": "ipython3",
   "version": "3.11.2"
  }
 },
 "nbformat": 4,
 "nbformat_minor": 5
}
