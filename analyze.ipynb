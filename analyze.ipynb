{
 "cells": [
  {
   "cell_type": "markdown",
   "id": "c53ed816-d9eb-4248-a4b6-e913177ae55f",
   "metadata": {},
   "source": [
    "### Приложение 3\n",
    "#### Криптоанализ алгоритма RSA"
   ]
  },
  {
   "cell_type": "code",
   "execution_count": 1,
   "id": "1f128fcd-4f75-47d0-894d-a8b80aef4974",
   "metadata": {},
   "outputs": [
    {
     "name": "stdout",
     "output_type": "stream",
     "text": [
      "total 1056\n",
      "-rw-r--r--  1 lubabordaeva  staff    7108 Apr 23 23:29 Untitled.ipynb\n",
      "-rw-r--r--  1 lubabordaeva  staff   35117 Apr 23 22:07 decrypted.png\n",
      "-rw-r--r--  1 lubabordaeva  staff     408 Apr 23 22:07 decrypted.txt\n",
      "-rw-r--r--  1 lubabordaeva  staff   84341 Apr 23 22:36 demo.ipynb\n",
      "-rw-r--r--  1 lubabordaeva  staff  287142 Apr 23 22:08 demo.pdf\n",
      "-rw-r--r--  1 lubabordaeva  staff   35328 Apr 23 22:08 encrypted.png\n",
      "-rw-r--r--  1 lubabordaeva  staff     512 Apr 23 22:08 encrypted.txt\n",
      "-rw-r--r--@ 1 lubabordaeva  staff   35117 Apr 23 11:51 image.png\n",
      "-rw-r--r--  1 lubabordaeva  staff    1541 Apr 23 22:08 key.pub\n",
      "-rw-r--r--  1 lubabordaeva  staff    2053 Apr 23 22:08 key.secret\n",
      "-rw-r--r--  1 lubabordaeva  staff    4869 Apr 22 20:37 keygen.py\n",
      "-rw-r--r--  1 lubabordaeva  staff     408 Apr 23 22:14 open.txt\n",
      "-rw-r--r--  1 lubabordaeva  staff    5160 Apr 23 12:04 rsa.py\n",
      "-rw-r--r--  1 lubabordaeva  staff      11 Apr 23 23:29 small.pub\n",
      "-rw-r--r--  1 lubabordaeva  staff      13 Apr 23 23:29 small.secret\n"
     ]
    }
   ],
   "source": [
    "# Ключи большой блины с правильными параметрами p и q взломать за вменяемое время невозможно.\n",
    "# Буду демонстрировать попытку взлома RSA малой длины и не верными параметрами p и q (с малой разницей)\n",
    "\n",
    "# Сгенерирую пару ключей с префиксом small\n",
    "\n",
    "from keygen import KeyGenerator\n",
    "\n",
    "KeyGenerator(8, 8, \"small\")\n",
    "\n",
    "# Проверим создались ли файлы с ключами\n",
    "!ls -l"
   ]
  },
  {
   "cell_type": "code",
   "execution_count": 2,
   "id": "a6517a88-f4b8-4c46-80b0-61c1867cf6c9",
   "metadata": {},
   "outputs": [
    {
     "name": "stdout",
     "output_type": "stream",
     "text": [
      "{'public_key': '0X9D', 'public_key_int': 157, 'public_key_bin': '0b10011101', 'public_key_len': 8}\n"
     ]
    }
   ],
   "source": [
    "# Вижу два ключа small.pub и small.secret\n",
    "# Измерю их длину и длину модуля\n",
    "\n",
    "# Открытый ключ\n",
    "\n",
    "with open(\"small.pub\", \"r\") as file:\n",
    "    public_key, modul = file.read().split(\"/\")\n",
    "\n",
    "print({\n",
    "    \"public_key\": public_key,\n",
    "    \"public_key_int\": int(public_key, 0),\n",
    "    \"public_key_bin\": bin(int(public_key, 0)),\n",
    "    \"public_key_len\": len(bin(int(public_key, 0))[2:])\n",
    "})"
   ]
  },
  {
   "cell_type": "code",
   "execution_count": 3,
   "id": "a423c6c1-ef1b-4620-b17d-d7151625449d",
   "metadata": {},
   "outputs": [
    {
     "name": "stdout",
     "output_type": "stream",
     "text": [
      "{'secret_key': '0X3BAD', 'secret_key_int': 15277, 'secret_key_bin': '0b11101110101101', 'secret_key_len': 14}\n"
     ]
    }
   ],
   "source": [
    "# Закрытый ключ\n",
    "\n",
    "with open(\"small.secret\", \"r\") as file:\n",
    "    secret_key = file.read().split(\"/\")[0]\n",
    "    \n",
    "print({\n",
    "    \"secret_key\": secret_key,\n",
    "    \"secret_key_int\": int(secret_key, 0),\n",
    "    \"secret_key_bin\": bin(int(secret_key, 0)),\n",
    "    \"secret_key_len\": len(bin(int(secret_key, 0))[2:])\n",
    "})"
   ]
  },
  {
   "cell_type": "code",
   "execution_count": 4,
   "id": "ecd5e73c-69e8-483a-952d-ba583ffe252a",
   "metadata": {},
   "outputs": [
    {
     "name": "stdout",
     "output_type": "stream",
     "text": [
      "{'modul': '0X81CB', 'modul_int': 33227, 'modul_bin': '0b1000000111001011', 'modul_len': 16}\n"
     ]
    }
   ],
   "source": [
    "# Модуль\n",
    "\n",
    "print({\n",
    "    \"modul\": modul,\n",
    "    \"modul_int\": int(modul, 0),\n",
    "    \"modul_bin\": bin(int(modul, 0)),\n",
    "    \"modul_len\": len(bin(int(modul, 0))[2:])\n",
    "})"
   ]
  },
  {
   "cell_type": "code",
   "execution_count": null,
   "id": "8fd84d70-0469-4bb7-ab19-eb86a1e4c032",
   "metadata": {},
   "outputs": [],
   "source": []
  }
 ],
 "metadata": {
  "kernelspec": {
   "display_name": "Python 3 (ipykernel)",
   "language": "python",
   "name": "python3"
  },
  "language_info": {
   "codemirror_mode": {
    "name": "ipython",
    "version": 3
   },
   "file_extension": ".py",
   "mimetype": "text/x-python",
   "name": "python",
   "nbconvert_exporter": "python",
   "pygments_lexer": "ipython3",
   "version": "3.9.6"
  }
 },
 "nbformat": 4,
 "nbformat_minor": 5
}
